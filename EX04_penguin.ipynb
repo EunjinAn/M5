{
  "nbformat": 4,
  "nbformat_minor": 0,
  "metadata": {
    "colab": {
      "provenance": [],
      "include_colab_link": true
    },
    "kernelspec": {
      "name": "python3",
      "display_name": "Python 3"
    },
    "language_info": {
      "name": "python"
    }
  },
  "cells": [
    {
      "cell_type": "markdown",
      "metadata": {
        "id": "view-in-github",
        "colab_type": "text"
      },
      "source": [
        "<a href=\"https://colab.research.google.com/github/EunjinAn/M6/blob/main/EX04_penguin.ipynb\" target=\"_parent\"><img src=\"https://colab.research.google.com/assets/colab-badge.svg\" alt=\"Open In Colab\"/></a>"
      ]
    },
    {
      "cell_type": "markdown",
      "source": [
        "Task\n",
        "\n",
        "1. Select one of your previous projects that includes a machine learning component and use MLflow to track and manage your machine learning experiments. The following tasks should be performed:\n",
        "\n",
        "2. Train a machine learning model using the data from your previous project. You can use any machine learning model that is appropriate for your data and problem.\n",
        "\n",
        "3. Use MLflow to track and manage your machine learning experiments. Log the hyperparameters, metrics, and artifacts of your machine learning experiments in MLflow. Save structured and unstructured information related to your trained model in SQLite within MLflow.\n",
        "\n",
        "4. Optionally, prepare an ML app based on three layers (data, business, presentation) to provide a user-friendly interface for interacting with your machine learning model. This will involve creating a data layer that handles the data processing pipeline and provides functions for loading and preprocessing the data, a business layer that implements the machine learning model and its related functions, and a presentation layer that implements the user interface and connects it to the business layer."
      ],
      "metadata": {
        "id": "q3Xc0Q3dQb4g"
      }
    },
    {
      "cell_type": "markdown",
      "source": [
        "install and import the mlflow "
      ],
      "metadata": {
        "id": "49EEGVagRRCe"
      }
    },
    {
      "cell_type": "code",
      "execution_count": null,
      "metadata": {
        "id": "zUFGk_fdQa06"
      },
      "outputs": [],
      "source": [
        "!pip install mlflow --q"
      ]
    },
    {
      "cell_type": "code",
      "source": [
        "# data cleaning\n",
        "# import\n",
        "import pandas as pd\n",
        "import numpy as np\n",
        "\n",
        "# load data\n",
        "data = pd.read_csv(\"https://github.com/allisonhorst/palmerpenguins/raw/5b5891f01b52ae26ad8cb9755ec93672f49328a8/data/penguins_size.csv\")\n",
        "data = data.dropna()"
      ],
      "metadata": {
        "id": "V4cfPQZHdBs4"
      },
      "execution_count": null,
      "outputs": []
    },
    {
      "cell_type": "markdown",
      "source": [
        "**1. Data Layer**: Setting up SQLite\n",
        "\n",
        "\n",
        "First, let's create a SQLite database for the penguin dataset. SQLite is a lightweight, easy-to-use, serverless SQL database engine.\n",
        "\n",
        "Create a new file named database.py and paste the following code:"
      ],
      "metadata": {
        "id": "9EiYT-HKWICp"
      }
    },
    {
      "cell_type": "code",
      "source": [
        "#database.py\n",
        "import sqlite3\n",
        "import pandas as pd\n",
        "\n",
        "def init_db():\n",
        "  # Load the penguin dataset into a Pandas DataFrame\n",
        "  df = data[['culmen_length_mm', 'culmen_depth_mm', 'flipper_length_mm', 'body_mass_g', 'species_short']]\n",
        "\n",
        "  # Connect to the SQLite database\n",
        "  conn = sqlite3.connect(\"penguin.db\")\n",
        "\n",
        "  # Save the Pandas DataFrame to the SQLite database\n",
        "  df.to_sql(\"penguin\", conn, if_exists=\"replace\", index=False)\n",
        "\n",
        "  # Close the connection to the SQLite database\n",
        "  conn.close()\n",
        "\n",
        "if __name__ == '__main__':\n",
        "    init_db()"
      ],
      "metadata": {
        "id": "xsP2EizWWHKn"
      },
      "execution_count": null,
      "outputs": []
    },
    {
      "cell_type": "markdown",
      "source": [
        "Now, run database.py to create the database and the penguin_data table."
      ],
      "metadata": {
        "id": "3lo31iLYYsg3"
      }
    },
    {
      "cell_type": "code",
      "source": [
        "import pandas as pd\n",
        "import sqlite3\n",
        "\n",
        "# Connect to the SQLite database\n",
        "conn = sqlite3.connect(\"penguin.db\")\n",
        "\n",
        "# Read the list of tables using Pandas\n",
        "tables_df = pd.read_sql(\"SELECT name FROM sqlite_master WHERE type='table';\", conn)\n",
        "\n",
        "# Print the table names\n",
        "for table_name in tables_df['name']:\n",
        "    print(table_name)\n",
        "\n",
        "# Close the connection\n",
        "conn.close()"
      ],
      "metadata": {
        "colab": {
          "base_uri": "https://localhost:8080/"
        },
        "id": "Rs6v4q7eXMUA",
        "outputId": "84178c3f-2194-4a16-f695-a284fa001525"
      },
      "execution_count": null,
      "outputs": [
        {
          "output_type": "stream",
          "name": "stdout",
          "text": [
            "penguin\n"
          ]
        }
      ]
    },
    {
      "cell_type": "markdown",
      "source": [
        "**2. Business Layer: **\n",
        "\n",
        "Training the Machine Learning Model\n",
        "We'll use the scikit-learn library to train a machine learning model for Iris classification. Install scikit-learn if you haven't already: Create a new file named ml_model.py and paste the following code:"
      ],
      "metadata": {
        "id": "DwfzSTIkXY-d"
      }
    },
    {
      "cell_type": "code",
      "source": [
        "import pandas as pd\n",
        "import sqlite3\n",
        "from sklearn import datasets\n",
        "from sklearn.model_selection import train_test_split\n",
        "from sklearn.svm import SVC\n",
        "from sklearn.metrics import accuracy_score\n",
        "import pickle\n",
        "\n",
        "# Connect to the SQLite database\n",
        "conn = sqlite3.connect(\"penguin.db\")\n",
        "\n",
        "# Read data from a table using Pandas\n",
        "data_df = pd.read_sql(\"SELECT * FROM penguin\", conn)\n",
        "\n",
        "def train_model():\n",
        "    X = data_df.drop('species_short', axis=1)\n",
        "    y = data_df['species_short']\n",
        "\n",
        "    X_train, X_test, y_train, y_test = train_test_split(X, y, test_size=0.2, random_state=42)\n",
        "\n",
        "    clf = SVC()\n",
        "    clf.fit(X_train, y_train)\n",
        "\n",
        "    with open(\"model.pkl\", \"wb\") as f:\n",
        "        pickle.dump(clf, f)\n",
        "\n",
        "    return clf.score(X_test, y_test)\n",
        "\n",
        "if __name__ == '__main__':\n",
        "    accuracy = train_model()\n",
        "    print(f\"Model trained with accuracy: {accuracy}\")"
      ],
      "metadata": {
        "colab": {
          "base_uri": "https://localhost:8080/"
        },
        "id": "gb4jUyTWXpsa",
        "outputId": "239b786b-6e55-4a90-b26b-adb8e6cfddcf"
      },
      "execution_count": null,
      "outputs": [
        {
          "output_type": "stream",
          "name": "stdout",
          "text": [
            "Model trained with accuracy: 0.7313432835820896\n"
          ]
        }
      ]
    },
    {
      "cell_type": "markdown",
      "source": [
        "**3. Presentation Layer: HTML & CSS**\n",
        "\n",
        "\n",
        "Create a new folder named templates, and inside it, create a new file named index.html. Paste the following code:"
      ],
      "metadata": {
        "id": "u6_DBzigaR69"
      }
    },
    {
      "cell_type": "code",
      "source": [
        "<!DOCTYPE html>\n",
        "<html lang=\"en\">\n",
        "<head>\n",
        "    <meta charset=\"UTF-8\">\n",
        "    <meta name=\"viewport\" content=\"width=device-width, initial-scale=1.0\">\n",
        "    <title>Iris Classification</title>\n",
        "    <link rel=\"stylesheet\" href=\"static/style.css\">\n",
        "</head>\n",
        "<body>\n",
        "    <h1>Penguin Classification</h1>\n",
        "    <form action=\"/classify\" method=\"post\">\n",
        "        <label for=\"culmen_length_mm\">culmen_length:</label>\n",
        "        <input type=\"number\" step=\"0.1\" id=\"culmen_length_mm\" name=\"culmen_length_mm\" required><br><br>\n",
        "        <label for=\"culmen_depth_mm\">culmen_depth:</label>\n",
        "        <input type=\"number\" step=\"0.1\" id=\"culmen_depth_mm\" name=\"culmen_depth_mm\" required><br><br>\n",
        "        <label for=\"flipper_length_mm\">flipper_length:</label>\n",
        "        <input type=\"number\" step=\"0.1\" id=\"flipper_length_mm\" name=\"flipper_length_mm\" required><br><br>\n",
        "        <label for=\"body_mass_g\">body_mass:</label>\n",
        "        <input type=\"number\" step=\"0.1\" id=\"body_mass_g\" name=\"body_mass_g\" required><br><br>\n",
        "        <input type=\"submit\" value=\"Classify\">\n",
        "    </form>\n",
        "    {% if prediction %}\n",
        "    <h2>Prediction: {{ prediction }}</h2>\n",
        "    {% endif %}\n",
        "</body>\n",
        "</html>\n"
      ],
      "metadata": {
        "id": "KYi_aTxAaW_a",
        "colab": {
          "base_uri": "https://localhost:8080/",
          "height": 131
        },
        "outputId": "06c2966f-d5d4-4934-d4c3-d66ff6f30b99"
      },
      "execution_count": null,
      "outputs": [
        {
          "output_type": "error",
          "ename": "SyntaxError",
          "evalue": "ignored",
          "traceback": [
            "\u001b[0;36m  File \u001b[0;32m\"<ipython-input-9-731b84f9fbe7>\"\u001b[0;36m, line \u001b[0;32m1\u001b[0m\n\u001b[0;31m    <!DOCTYPE html>\u001b[0m\n\u001b[0m    ^\u001b[0m\n\u001b[0;31mSyntaxError\u001b[0m\u001b[0;31m:\u001b[0m invalid syntax\n"
          ]
        }
      ]
    },
    {
      "cell_type": "markdown",
      "source": [
        "Now, let's create a basic CSS file to style our app. \n",
        "\n",
        "Create a new folder named ***static***, and inside it, create a new file named ***style.css***. Paste the following code:"
      ],
      "metadata": {
        "id": "Fnld0WFLecoO"
      }
    },
    {
      "cell_type": "code",
      "source": [
        "body {\n",
        "    font-family: Arial, sans-serif;\n",
        "    max-width: 600px;\n",
        "    margin: 0 auto;\n",
        "    padding: 20px;\n",
        "}\n",
        "\n",
        "input[type=number], input[type=submit] {\n",
        "    width: 100%;\n",
        "    padding: 5px;\n",
        "    margin: 5px 0;\n",
        "    box-sizing: border-box;\n",
        "}\n",
        "\n",
        "input[type=submit] {\n",
        "    background-color: #4CAF50;\n",
        "    color: white;\n",
        "    cursor: pointer;\n",
        "}"
      ],
      "metadata": {
        "id": "OVKE1ScebfS_"
      },
      "execution_count": null,
      "outputs": []
    },
    {
      "cell_type": "markdown",
      "source": [
        "**4. Connecting Everything with Flask**\n",
        "Create a new file named ***app.py*** and paste the following code:"
      ],
      "metadata": {
        "id": "e1bjgz33bipg"
      }
    },
    {
      "cell_type": "code",
      "source": [
        "from flask import Flask, render_template, request, jsonify\n",
        "import pickle\n",
        "import sqlite3\n",
        "\n",
        "app = Flask(__name__)\n",
        "\n",
        "with open(\"model.pkl\", \"rb\") as f:\n",
        "    model = pickle.load(f)\n",
        "\n",
        "@app.route(\"/\", methods=[\"GET\"])\n",
        "def index():\n",
        "    return render_template(\"index.html\", prediction=None)\n",
        "\n",
        "@app.route(\"/classify\", methods=[\"POST\"])\n",
        "def classify():\n",
        "    culmen_length_mm = float(request.form[\"culmen_length_mm\"])\n",
        "    culmen_depth_mm = float(request.form[\"culmen_depth_mm\"])\n",
        "    flipper_length_mm = float(request.form[\"flipper_length_mm\"])\n",
        "    body_mass_g = float(request.form[\"body_mass_g\"])\n",
        "\n",
        "    data = [[culmen_length_mm, culmen_depth_mm, flipper_length_mm, body_mass_g]]\n",
        "    prediction = model.predict(data)[0]\n",
        "\n",
        "    # Save the data to the database\n",
        "    connection = sqlite3.connect(\"penguin.db\")\n",
        "    cursor = connection.cursor()\n",
        "    cursor.execute(\"INSERT INTO penguin (culmen_length_mm, culmen_depth_mm, flipper_length_mm, body_mass_g, species_short) VALUES (?, ?, ?, ?, ?)\",\n",
        "                   (culmen_length_mm, culmen_depth_mm, flipper_length_mm, body_mass_g, prediction))\n",
        "    connection.commit()\n",
        "    connection.close()\n",
        "\n",
        "    return jsonify({\"prediction\": prediction})\n",
        "\n",
        "\n",
        "if __name__ == \"__main__\":\n",
        "    app.run(debug=True, port=5006)"
      ],
      "metadata": {
        "id": "QjClNvMnbf8v",
        "colab": {
          "base_uri": "https://localhost:8080/"
        },
        "outputId": "57282739-6e9f-4eaa-c475-5ee8be32f498"
      },
      "execution_count": null,
      "outputs": [
        {
          "output_type": "stream",
          "name": "stdout",
          "text": [
            " * Serving Flask app '__main__'\n",
            " * Debug mode: on\n"
          ]
        },
        {
          "output_type": "stream",
          "name": "stderr",
          "text": [
            "INFO:werkzeug:\u001b[31m\u001b[1mWARNING: This is a development server. Do not use it in a production deployment. Use a production WSGI server instead.\u001b[0m\n",
            " * Running on http://127.0.0.1:5002\n",
            "INFO:werkzeug:\u001b[33mPress CTRL+C to quit\u001b[0m\n",
            "INFO:werkzeug: * Restarting with stat\n"
          ]
        }
      ]
    },
    {
      "cell_type": "markdown",
      "source": [
        "# MLflow\n",
        "\n",
        "change the RandomForestClassifier in our business layer."
      ],
      "metadata": {
        "id": "zTMtRy1Ugc39"
      }
    },
    {
      "cell_type": "code",
      "source": [
        "import mlflow\n",
        "import mlflow.sklearn\n",
        "from sklearn import datasets\n",
        "from sklearn.model_selection import train_test_split\n",
        "from sklearn.ensemble import RandomForestClassifier\n",
        "import sqlite3\n",
        "import pandas as pd\n",
        "\n",
        "# Connect to the SQLite database\n",
        "conn = sqlite3.connect(\"penguin.db\")\n",
        "\n",
        "# Read data from a table using Pandas\n",
        "data_df = pd.read_sql(\"SELECT * FROM penguin\", conn)\n",
        "\n",
        "def train_model():\n",
        "    mlflow.set_experiment(\"penguin_Classification\")\n",
        "    X = data_df.drop('species_short', axis=1)\n",
        "    y = data_df['species_short']\n",
        "\n",
        "    X_train, X_test, y_train, y_test = train_test_split(X, y, test_size=0.2, random_state=42)\n",
        "\n",
        "    clf = RandomForestClassifier()\n",
        "\n",
        "    with mlflow.start_run():\n",
        "        clf.fit(X_train, y_train)\n",
        "\n",
        "        # Log model parameters\n",
        "        mlflow.log_param(\"n_estimators\", clf.n_estimators)\n",
        "        mlflow.log_param(\"criterion\", clf.criterion)\n",
        "\n",
        "        # Log model performance metrics\n",
        "        train_score = clf.score(X_train, y_train)\n",
        "        test_score = clf.score(X_test, y_test)\n",
        "        mlflow.log_metric(\"train_score\", train_score)\n",
        "        mlflow.log_metric(\"test_score\", test_score)\n",
        "\n",
        "        # Save the model as an artifact\n",
        "        mlflow.sklearn.log_model(clf, \"model\")\n",
        "\n",
        "    return clf, test_score\n",
        "\n",
        "if __name__ == '__main__':\n",
        "    clf, accuracy = train_model()\n",
        "    print(f\"Model trained with accuracy: {accuracy}\")\n",
        "    mlflow.log_metric(\"accuracy\", accuracy)\n",
        "    mlflow.sklearn.log_model(clf, \"model\")\n",
        "    mlflow.sklearn.log_model(clf, \"model\", registered_model_name=\"penguin_model\")\n",
        "    mlflow.sklearn.save_model(clf, \"penguin_model_3\")\n",
        "\n",
        "    # Launch MLflow UI\n",
        "    import os\n",
        "    os.system(\"mlflow ui\")"
      ],
      "metadata": {
        "colab": {
          "base_uri": "https://localhost:8080/"
        },
        "id": "0eAL9lOag7lU",
        "outputId": "450a0e7c-e109-485c-9c4d-41e72dacafe0"
      },
      "execution_count": null,
      "outputs": [
        {
          "output_type": "stream",
          "name": "stderr",
          "text": [
            "2023/04/17 09:22:47 INFO mlflow.tracking.fluent: Experiment with name 'penguin_Classification' does not exist. Creating a new experiment.\n"
          ]
        },
        {
          "output_type": "stream",
          "name": "stdout",
          "text": [
            "Model trained with accuracy: 1.0\n"
          ]
        },
        {
          "output_type": "stream",
          "name": "stderr",
          "text": [
            "Successfully registered model 'penguin_model'.\n",
            "2023/04/17 09:22:56 INFO mlflow.tracking._model_registry.client: Waiting up to 300 seconds for model version to finish creation.                     Model name: penguin_model, version 1\n",
            "Created version '1' of model 'penguin_model'.\n"
          ]
        }
      ]
    }
  ]
}