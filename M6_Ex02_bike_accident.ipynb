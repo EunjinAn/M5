{
  "nbformat": 4,
  "nbformat_minor": 0,
  "metadata": {
    "colab": {
      "provenance": [],
      "authorship_tag": "ABX9TyPFkiTZyTdEPGFltCJoq2VX",
      "include_colab_link": true
    },
    "kernelspec": {
      "name": "python3",
      "display_name": "Python 3"
    },
    "language_info": {
      "name": "python"
    },
    "accelerator": "GPU",
    "gpuClass": "standard"
  },
  "cells": [
    {
      "cell_type": "markdown",
      "metadata": {
        "id": "view-in-github",
        "colab_type": "text"
      },
      "source": [
        "<a href=\"https://colab.research.google.com/github/EunjinAn/M6/blob/main/M6_Ex02_bike_accident.ipynb\" target=\"_parent\"><img src=\"https://colab.research.google.com/assets/colab-badge.svg\" alt=\"Open In Colab\"/></a>"
      ]
    },
    {
      "cell_type": "markdown",
      "source": [
        "## Analyzing and visualizing big data using Polars DataFrame"
      ],
      "metadata": {
        "id": "B_ZmI4u0D4E3"
      }
    },
    {
      "cell_type": "markdown",
      "source": [
        "### We used the dataset, 'Bicycle Accidents in Great Britain' (1979 to 2018).\n",
        "\n",
        "- Accidents.csv (72.28MB)\n",
        "- Bikers.csv (29.38MB)\n"
      ],
      "metadata": {
        "id": "cXi-6C6uaQxG"
      }
    },
    {
      "cell_type": "markdown",
      "source": [
        "### 01. Data preprocessing"
      ],
      "metadata": {
        "id": "_JVKUgcAU773"
      }
    },
    {
      "cell_type": "code",
      "execution_count": 1,
      "metadata": {
        "colab": {
          "base_uri": "https://localhost:8080/"
        },
        "id": "tAHh7bvEK56v",
        "outputId": "4e556c69-ea04-43f5-9905-85d07f82b569"
      },
      "outputs": [
        {
          "output_type": "stream",
          "name": "stdout",
          "text": [
            "\u001b[?25l     \u001b[90m━━━━━━━━━━━━━━━━━━━━━━━━━━━━━━━━━━━━━━━━\u001b[0m \u001b[32m0.0/16.6 MB\u001b[0m \u001b[31m?\u001b[0m eta \u001b[36m-:--:--\u001b[0m\r\u001b[2K     \u001b[91m━━━━━━━━━\u001b[0m\u001b[90m╺\u001b[0m\u001b[90m━━━━━━━━━━━━━━━━━━━━━━━━━━━━━━\u001b[0m \u001b[32m3.9/16.6 MB\u001b[0m \u001b[31m117.8 MB/s\u001b[0m eta \u001b[36m0:00:01\u001b[0m\r\u001b[2K     \u001b[91m━━━━━━━━━━━━━━━━━━━━━━━━\u001b[0m\u001b[90m╺\u001b[0m\u001b[90m━━━━━━━━━━━━━━\u001b[0m \u001b[32m10.3/16.6 MB\u001b[0m \u001b[31m150.0 MB/s\u001b[0m eta \u001b[36m0:00:01\u001b[0m\r\u001b[2K     \u001b[91m━━━━━━━━━━━━━━━━━━━━━━━━━━━━━━━━━━━━━━\u001b[0m\u001b[91m╸\u001b[0m \u001b[32m16.6/16.6 MB\u001b[0m \u001b[31m191.8 MB/s\u001b[0m eta \u001b[36m0:00:01\u001b[0m\r\u001b[2K     \u001b[91m━━━━━━━━━━━━━━━━━━━━━━━━━━━━━━━━━━━━━━\u001b[0m\u001b[91m╸\u001b[0m \u001b[32m16.6/16.6 MB\u001b[0m \u001b[31m191.8 MB/s\u001b[0m eta \u001b[36m0:00:01\u001b[0m\r\u001b[2K     \u001b[90m━━━━━━━━━━━━━━━━━━━━━━━━━━━━━━━━━━━━━━━━\u001b[0m \u001b[32m16.6/16.6 MB\u001b[0m \u001b[31m77.5 MB/s\u001b[0m eta \u001b[36m0:00:00\u001b[0m\n",
            "\u001b[?25hLooking in indexes: https://pypi.org/simple, https://us-python.pkg.dev/colab-wheels/public/simple/\n",
            "Requirement already satisfied: plotly in /usr/local/lib/python3.9/dist-packages (5.13.1)\n",
            "Requirement already satisfied: tenacity>=6.2.0 in /usr/local/lib/python3.9/dist-packages (from plotly) (8.2.2)\n"
          ]
        }
      ],
      "source": [
        "# installing \n",
        "!pip install polars --q\n",
        "!pip install plotly"
      ]
    },
    {
      "cell_type": "code",
      "source": [
        "# importing the necessary lib\n",
        "import polars as pl\n",
        "# EDA\n",
        "import matplotlib.pyplot as plt\n",
        "import plotly.express as px\n",
        "import seaborn as sns"
      ],
      "metadata": {
        "id": "Nf_h6ivrLOt1"
      },
      "execution_count": 2,
      "outputs": []
    },
    {
      "cell_type": "code",
      "source": [
        "df_acc = pl.read_csv('Accidents.csv')"
      ],
      "metadata": {
        "id": "yM_-emCNLQN8"
      },
      "execution_count": 12,
      "outputs": []
    },
    {
      "cell_type": "code",
      "source": [
        "df_bike = pl.read_csv('Bikers.csv')"
      ],
      "metadata": {
        "id": "WFF1ScddQUuF"
      },
      "execution_count": 9,
      "outputs": []
    },
    {
      "cell_type": "code",
      "source": [
        "df_bike.head()"
      ],
      "metadata": {
        "colab": {
          "base_uri": "https://localhost:8080/",
          "height": 255
        },
        "id": "x0B4zOwOQcpV",
        "outputId": "dca87149-5b34-4da3-82fe-e8fde68c23c8"
      },
      "execution_count": 10,
      "outputs": [
        {
          "output_type": "execute_result",
          "data": {
            "text/plain": [
              "shape: (5, 4)\n",
              "┌────────────────┬────────┬──────────┬──────────┐\n",
              "│ Accident_Index ┆ Gender ┆ Severity ┆ Age_Grp  │\n",
              "│ ---            ┆ ---    ┆ ---      ┆ ---      │\n",
              "│ str            ┆ str    ┆ str      ┆ str      │\n",
              "╞════════════════╪════════╪══════════╪══════════╡\n",
              "│ 197901A1SEE71  ┆ Male   ┆ Serious  ┆ 36 to 45 │\n",
              "│ 197901A2JDW40  ┆ Male   ┆ Slight   ┆ 46 to 55 │\n",
              "│ 197901A4IJV90  ┆ Male   ┆ Slight   ┆ 46 to 55 │\n",
              "│ 197901A4NIE33  ┆ Male   ┆ Slight   ┆ 36 to 45 │\n",
              "│ 197901A4SKO47  ┆ Male   ┆ Slight   ┆ 46 to 55 │\n",
              "└────────────────┴────────┴──────────┴──────────┘"
            ],
            "text/html": [
              "<div><style>\n",
              ".dataframe > thead > tr > th,\n",
              ".dataframe > tbody > tr > td {\n",
              "  text-align: right;\n",
              "}\n",
              "</style>\n",
              "<small>shape: (5, 4)</small><table border=\"1\" class=\"dataframe\"><thead><tr><th>Accident_Index</th><th>Gender</th><th>Severity</th><th>Age_Grp</th></tr><tr><td>str</td><td>str</td><td>str</td><td>str</td></tr></thead><tbody><tr><td>&quot;197901A1SEE71&quot;</td><td>&quot;Male&quot;</td><td>&quot;Serious&quot;</td><td>&quot;36 to 45&quot;</td></tr><tr><td>&quot;197901A2JDW40&quot;</td><td>&quot;Male&quot;</td><td>&quot;Slight&quot;</td><td>&quot;46 to 55&quot;</td></tr><tr><td>&quot;197901A4IJV90&quot;</td><td>&quot;Male&quot;</td><td>&quot;Slight&quot;</td><td>&quot;46 to 55&quot;</td></tr><tr><td>&quot;197901A4NIE33&quot;</td><td>&quot;Male&quot;</td><td>&quot;Slight&quot;</td><td>&quot;36 to 45&quot;</td></tr><tr><td>&quot;197901A4SKO47&quot;</td><td>&quot;Male&quot;</td><td>&quot;Slight&quot;</td><td>&quot;46 to 55&quot;</td></tr></tbody></table></div>"
            ]
          },
          "metadata": {},
          "execution_count": 10
        }
      ]
    },
    {
      "cell_type": "code",
      "source": [
        "df_acc.head()"
      ],
      "metadata": {
        "colab": {
          "base_uri": "https://localhost:8080/",
          "height": 361
        },
        "id": "w4dYVetBLfnZ",
        "outputId": "c99a3403-83c8-463c-f87d-bf43815541b1"
      },
      "execution_count": 13,
      "outputs": [
        {
          "output_type": "execute_result",
          "data": {
            "text/plain": [
              "shape: (5, 11)\n",
              "┌────────────┬────────────┬────────────┬────────┬───┬────────────┬──────────┬─────────┬────────────┐\n",
              "│ Accident_I ┆ Number_of_ ┆ Number_of_ ┆ Date   ┆ … ┆ Weather_co ┆ Day      ┆ Road_ty ┆ Light_cond │\n",
              "│ ndex       ┆ Vehicles   ┆ Casualties ┆ ---    ┆   ┆ nditions   ┆ ---      ┆ pe      ┆ itions     │\n",
              "│ ---        ┆ ---        ┆ ---        ┆ str    ┆   ┆ ---        ┆ str      ┆ ---     ┆ ---        │\n",
              "│ str        ┆ i64        ┆ i64        ┆        ┆   ┆ str        ┆          ┆ str     ┆ str        │\n",
              "╞════════════╪════════════╪════════════╪════════╪═══╪════════════╪══════════╪═════════╪════════════╡\n",
              "│ 197901A1SE ┆ 2          ┆ 1          ┆ 1979-0 ┆ … ┆ Unknown    ┆ Monday   ┆ Dual    ┆ Darkness   │\n",
              "│ E71        ┆            ┆            ┆ 1-01   ┆   ┆            ┆          ┆ carriag ┆ lights lit │\n",
              "│            ┆            ┆            ┆        ┆   ┆            ┆          ┆ eway    ┆            │\n",
              "│ 197901A2JD ┆ 1          ┆ 1          ┆ 1979-0 ┆ … ┆ Unknown    ┆ Tuesday  ┆ Unknown ┆ Daylight   │\n",
              "│ W40        ┆            ┆            ┆ 2-01   ┆   ┆            ┆          ┆         ┆            │\n",
              "│ 197901A4IJ ┆ 2          ┆ 1          ┆ 1979-0 ┆ … ┆ Unknown    ┆ Thursday ┆ Unknown ┆ Daylight   │\n",
              "│ V90        ┆            ┆            ┆ 4-01   ┆   ┆            ┆          ┆         ┆            │\n",
              "│ 197901A4NI ┆ 2          ┆ 1          ┆ 1979-0 ┆ … ┆ Unknown    ┆ Thursday ┆ Unknown ┆ Daylight   │\n",
              "│ E33        ┆            ┆            ┆ 4-01   ┆   ┆            ┆          ┆         ┆            │\n",
              "│ 197901A4SK ┆ 2          ┆ 1          ┆ 1979-0 ┆ … ┆ Unknown    ┆ Thursday ┆ Unknown ┆ Darkness   │\n",
              "│ O47        ┆            ┆            ┆ 4-01   ┆   ┆            ┆          ┆         ┆ lights lit │\n",
              "└────────────┴────────────┴────────────┴────────┴───┴────────────┴──────────┴─────────┴────────────┘"
            ],
            "text/html": [
              "<div><style>\n",
              ".dataframe > thead > tr > th,\n",
              ".dataframe > tbody > tr > td {\n",
              "  text-align: right;\n",
              "}\n",
              "</style>\n",
              "<small>shape: (5, 11)</small><table border=\"1\" class=\"dataframe\"><thead><tr><th>Accident_Index</th><th>Number_of_Vehicles</th><th>Number_of_Casualties</th><th>Date</th><th>Time</th><th>Speed_limit</th><th>Road_conditions</th><th>Weather_conditions</th><th>Day</th><th>Road_type</th><th>Light_conditions</th></tr><tr><td>str</td><td>i64</td><td>i64</td><td>str</td><td>str</td><td>f64</td><td>str</td><td>str</td><td>str</td><td>str</td><td>str</td></tr></thead><tbody><tr><td>&quot;197901A1SEE71&quot;</td><td>2</td><td>1</td><td>&quot;1979-01-01&quot;</td><td>&quot;18:20&quot;</td><td>50.0</td><td>&quot;Snow&quot;</td><td>&quot;Unknown&quot;</td><td>&quot;Monday&quot;</td><td>&quot;Dual carriagew…</td><td>&quot;Darkness light…</td></tr><tr><td>&quot;197901A2JDW40&quot;</td><td>1</td><td>1</td><td>&quot;1979-02-01&quot;</td><td>&quot;09:15&quot;</td><td>30.0</td><td>&quot;Snow&quot;</td><td>&quot;Unknown&quot;</td><td>&quot;Tuesday&quot;</td><td>&quot;Unknown&quot;</td><td>&quot;Daylight&quot;</td></tr><tr><td>&quot;197901A4IJV90&quot;</td><td>2</td><td>1</td><td>&quot;1979-04-01&quot;</td><td>&quot;08:45&quot;</td><td>30.0</td><td>&quot;Snow&quot;</td><td>&quot;Unknown&quot;</td><td>&quot;Thursday&quot;</td><td>&quot;Unknown&quot;</td><td>&quot;Daylight&quot;</td></tr><tr><td>&quot;197901A4NIE33&quot;</td><td>2</td><td>1</td><td>&quot;1979-04-01&quot;</td><td>&quot;13:40&quot;</td><td>30.0</td><td>&quot;Wet&quot;</td><td>&quot;Unknown&quot;</td><td>&quot;Thursday&quot;</td><td>&quot;Unknown&quot;</td><td>&quot;Daylight&quot;</td></tr><tr><td>&quot;197901A4SKO47&quot;</td><td>2</td><td>1</td><td>&quot;1979-04-01&quot;</td><td>&quot;18:50&quot;</td><td>30.0</td><td>&quot;Wet&quot;</td><td>&quot;Unknown&quot;</td><td>&quot;Thursday&quot;</td><td>&quot;Unknown&quot;</td><td>&quot;Darkness light…</td></tr></tbody></table></div>"
            ]
          },
          "metadata": {},
          "execution_count": 13
        }
      ]
    },
    {
      "cell_type": "code",
      "source": [
        "rowCount = df_acc.shape[0]\n",
        "print(\"Total number of rows in the df_acc:\", rowCount)"
      ],
      "metadata": {
        "colab": {
          "base_uri": "https://localhost:8080/"
        },
        "id": "wUgTyuUlLiIQ",
        "outputId": "e565a8d1-d0c6-4d32-da23-73fedebc3391"
      },
      "execution_count": 14,
      "outputs": [
        {
          "output_type": "stream",
          "name": "stdout",
          "text": [
            "Total number of rows in the df_acc: 827861\n"
          ]
        }
      ]
    },
    {
      "cell_type": "code",
      "source": [
        "rowCount_bike = df_bike.shape[0]\n",
        "print(\"Total number of rows in the df_bike:\", rowCount_bike)"
      ],
      "metadata": {
        "colab": {
          "base_uri": "https://localhost:8080/"
        },
        "id": "hYESlRePQiCH",
        "outputId": "2a9cfe20-d79f-4a0f-86cc-d583a02e8c52"
      },
      "execution_count": 11,
      "outputs": [
        {
          "output_type": "stream",
          "name": "stdout",
          "text": [
            "Total number of rows in the df_bike: 827871\n"
          ]
        }
      ]
    },
    {
      "cell_type": "markdown",
      "source": [
        "### 02. Data inner join"
      ],
      "metadata": {
        "id": "FgqsSs5ZUyNs"
      }
    },
    {
      "cell_type": "code",
      "source": [
        "# inner join with two files, df and df_bike\n",
        "df_total = df_acc.join(df_bike, on=\"Accident_Index\", how=\"inner\")\n",
        "print(df_total)"
      ],
      "metadata": {
        "colab": {
          "base_uri": "https://localhost:8080/"
        },
        "id": "r1srgETGR-N5",
        "outputId": "a718cd80-1e09-44f7-cdec-45620b39df7e"
      },
      "execution_count": 15,
      "outputs": [
        {
          "output_type": "stream",
          "name": "stdout",
          "text": [
            "shape: (827861, 14)\n",
            "┌────────────┬────────────┬────────────┬───────────┬───┬────────────┬────────┬──────────┬──────────┐\n",
            "│ Accident_I ┆ Number_of_ ┆ Number_of_ ┆ Date      ┆ … ┆ Light_cond ┆ Gender ┆ Severity ┆ Age_Grp  │\n",
            "│ ndex       ┆ Vehicles   ┆ Casualties ┆ ---       ┆   ┆ itions     ┆ ---    ┆ ---      ┆ ---      │\n",
            "│ ---        ┆ ---        ┆ ---        ┆ str       ┆   ┆ ---        ┆ str    ┆ str      ┆ str      │\n",
            "│ str        ┆ i64        ┆ i64        ┆           ┆   ┆ str        ┆        ┆          ┆          │\n",
            "╞════════════╪════════════╪════════════╪═══════════╪═══╪════════════╪════════╪══════════╪══════════╡\n",
            "│ 197901A1SE ┆ 2          ┆ 1          ┆ 1979-01-0 ┆ … ┆ Darkness   ┆ Male   ┆ Serious  ┆ 36 to 45 │\n",
            "│ E71        ┆            ┆            ┆ 1         ┆   ┆ lights lit ┆        ┆          ┆          │\n",
            "│ 197901A2JD ┆ 1          ┆ 1          ┆ 1979-02-0 ┆ … ┆ Daylight   ┆ Male   ┆ Slight   ┆ 46 to 55 │\n",
            "│ W40        ┆            ┆            ┆ 1         ┆   ┆            ┆        ┆          ┆          │\n",
            "│ 197901A4IJ ┆ 2          ┆ 1          ┆ 1979-04-0 ┆ … ┆ Daylight   ┆ Male   ┆ Slight   ┆ 46 to 55 │\n",
            "│ V90        ┆            ┆            ┆ 1         ┆   ┆            ┆        ┆          ┆          │\n",
            "│ 197901A4NI ┆ 2          ┆ 1          ┆ 1979-04-0 ┆ … ┆ Daylight   ┆ Male   ┆ Slight   ┆ 36 to 45 │\n",
            "│ E33        ┆            ┆            ┆ 1         ┆   ┆            ┆        ┆          ┆          │\n",
            "│ …          ┆ …          ┆ …          ┆ …         ┆ … ┆ …          ┆ …      ┆ …        ┆ …        │\n",
            "│ 2018983119 ┆ 2          ┆ 1          ┆ 2018-07-2 ┆ … ┆ Daylight   ┆ Male   ┆ Serious  ┆ 56 to 65 │\n",
            "│ 218        ┆            ┆            ┆ 4         ┆   ┆            ┆        ┆          ┆          │\n",
            "│ 2018983120 ┆ 2          ┆ 1          ┆ 2018-10-0 ┆ … ┆ Daylight   ┆ Male   ┆ Serious  ┆ 11 to 15 │\n",
            "│ 618        ┆            ┆            ┆ 8         ┆   ┆            ┆        ┆          ┆          │\n",
            "│ 2018983121 ┆ 2          ┆ 1          ┆ 2018-07-1 ┆ … ┆ Daylight   ┆ Male   ┆ Serious  ┆ 46 to 55 │\n",
            "│ 918        ┆            ┆            ┆ 8         ┆   ┆            ┆        ┆          ┆          │\n",
            "│ 2018983133 ┆ 2          ┆ 1          ┆ 2018-12-2 ┆ … ┆ Daylight   ┆ Male   ┆ Serious  ┆ 6 to 10  │\n",
            "│ 818        ┆            ┆            ┆ 0         ┆   ┆            ┆        ┆          ┆          │\n",
            "└────────────┴────────────┴────────────┴───────────┴───┴────────────┴────────┴──────────┴──────────┘\n"
          ]
        }
      ]
    },
    {
      "cell_type": "code",
      "source": [
        "# drop the nan data\n",
        "null_count_df = df_total.null_count()\n",
        "print(null_count_df)"
      ],
      "metadata": {
        "colab": {
          "base_uri": "https://localhost:8080/"
        },
        "id": "GfJ6770PSxJ1",
        "outputId": "37007d2d-751c-4e13-a644-cbe2a5ab84c2"
      },
      "execution_count": 16,
      "outputs": [
        {
          "output_type": "stream",
          "name": "stdout",
          "text": [
            "shape: (1, 14)\n",
            "┌────────────┬──────────────┬──────────────┬──────┬───┬──────────────┬────────┬──────────┬─────────┐\n",
            "│ Accident_I ┆ Number_of_Ve ┆ Number_of_Ca ┆ Date ┆ … ┆ Light_condit ┆ Gender ┆ Severity ┆ Age_Grp │\n",
            "│ ndex       ┆ hicles       ┆ sualties     ┆ ---  ┆   ┆ ions         ┆ ---    ┆ ---      ┆ ---     │\n",
            "│ ---        ┆ ---          ┆ ---          ┆ u32  ┆   ┆ ---          ┆ u32    ┆ u32      ┆ u32     │\n",
            "│ u32        ┆ u32          ┆ u32          ┆      ┆   ┆ u32          ┆        ┆          ┆         │\n",
            "╞════════════╪══════════════╪══════════════╪══════╪═══╪══════════════╪════════╪══════════╪═════════╡\n",
            "│ 0          ┆ 0            ┆ 0            ┆ 0    ┆ … ┆ 0            ┆ 0      ┆ 0        ┆ 0       │\n",
            "└────────────┴──────────────┴──────────────┴──────┴───┴──────────────┴────────┴──────────┴─────────┘\n"
          ]
        }
      ]
    },
    {
      "cell_type": "code",
      "source": [
        "df_total = df_total.drop_nulls()"
      ],
      "metadata": {
        "id": "gglkdFh0TSCt"
      },
      "execution_count": 17,
      "outputs": []
    },
    {
      "cell_type": "code",
      "source": [
        "# check!\n",
        "null_count_df = df_total.null_count()\n",
        "print(null_count_df)"
      ],
      "metadata": {
        "colab": {
          "base_uri": "https://localhost:8080/"
        },
        "id": "wAodBmQsTcMW",
        "outputId": "0aff6bf1-5b45-4318-fe7a-c21e344ff2b6"
      },
      "execution_count": 18,
      "outputs": [
        {
          "output_type": "stream",
          "name": "stdout",
          "text": [
            "shape: (1, 14)\n",
            "┌────────────┬──────────────┬──────────────┬──────┬───┬──────────────┬────────┬──────────┬─────────┐\n",
            "│ Accident_I ┆ Number_of_Ve ┆ Number_of_Ca ┆ Date ┆ … ┆ Light_condit ┆ Gender ┆ Severity ┆ Age_Grp │\n",
            "│ ndex       ┆ hicles       ┆ sualties     ┆ ---  ┆   ┆ ions         ┆ ---    ┆ ---      ┆ ---     │\n",
            "│ ---        ┆ ---          ┆ ---          ┆ u32  ┆   ┆ ---          ┆ u32    ┆ u32      ┆ u32     │\n",
            "│ u32        ┆ u32          ┆ u32          ┆      ┆   ┆ u32          ┆        ┆          ┆         │\n",
            "╞════════════╪══════════════╪══════════════╪══════╪═══╪══════════════╪════════╪══════════╪═════════╡\n",
            "│ 0          ┆ 0            ┆ 0            ┆ 0    ┆ … ┆ 0            ┆ 0      ┆ 0        ┆ 0       │\n",
            "└────────────┴──────────────┴──────────────┴──────┴───┴──────────────┴────────┴──────────┴─────────┘\n"
          ]
        }
      ]
    },
    {
      "cell_type": "code",
      "source": [
        "df_total.columns"
      ],
      "metadata": {
        "colab": {
          "base_uri": "https://localhost:8080/"
        },
        "id": "LQY54okqTjYm",
        "outputId": "ed00e2d4-b247-437c-ddbb-69714c22c790"
      },
      "execution_count": 19,
      "outputs": [
        {
          "output_type": "execute_result",
          "data": {
            "text/plain": [
              "['Accident_Index',\n",
              " 'Number_of_Vehicles',\n",
              " 'Number_of_Casualties',\n",
              " 'Date',\n",
              " 'Time',\n",
              " 'Speed_limit',\n",
              " 'Road_conditions',\n",
              " 'Weather_conditions',\n",
              " 'Day',\n",
              " 'Road_type',\n",
              " 'Light_conditions',\n",
              " 'Gender',\n",
              " 'Severity',\n",
              " 'Age_Grp']"
            ]
          },
          "metadata": {},
          "execution_count": 19
        }
      ]
    },
    {
      "cell_type": "code",
      "source": [
        "# preprocessed data\n",
        "df_total.head()"
      ],
      "metadata": {
        "colab": {
          "base_uri": "https://localhost:8080/",
          "height": 361
        },
        "id": "vkWRr-B0Ty16",
        "outputId": "2b81bdc8-b410-4ee8-883b-35edfd4ecd49"
      },
      "execution_count": 20,
      "outputs": [
        {
          "output_type": "execute_result",
          "data": {
            "text/plain": [
              "shape: (5, 14)\n",
              "┌────────────┬────────────┬────────────┬───────────┬───┬────────────┬────────┬──────────┬──────────┐\n",
              "│ Accident_I ┆ Number_of_ ┆ Number_of_ ┆ Date      ┆ … ┆ Light_cond ┆ Gender ┆ Severity ┆ Age_Grp  │\n",
              "│ ndex       ┆ Vehicles   ┆ Casualties ┆ ---       ┆   ┆ itions     ┆ ---    ┆ ---      ┆ ---      │\n",
              "│ ---        ┆ ---        ┆ ---        ┆ str       ┆   ┆ ---        ┆ str    ┆ str      ┆ str      │\n",
              "│ str        ┆ i64        ┆ i64        ┆           ┆   ┆ str        ┆        ┆          ┆          │\n",
              "╞════════════╪════════════╪════════════╪═══════════╪═══╪════════════╪════════╪══════════╪══════════╡\n",
              "│ 197901A1SE ┆ 2          ┆ 1          ┆ 1979-01-0 ┆ … ┆ Darkness   ┆ Male   ┆ Serious  ┆ 36 to 45 │\n",
              "│ E71        ┆            ┆            ┆ 1         ┆   ┆ lights lit ┆        ┆          ┆          │\n",
              "│ 197901A2JD ┆ 1          ┆ 1          ┆ 1979-02-0 ┆ … ┆ Daylight   ┆ Male   ┆ Slight   ┆ 46 to 55 │\n",
              "│ W40        ┆            ┆            ┆ 1         ┆   ┆            ┆        ┆          ┆          │\n",
              "│ 197901A4IJ ┆ 2          ┆ 1          ┆ 1979-04-0 ┆ … ┆ Daylight   ┆ Male   ┆ Slight   ┆ 46 to 55 │\n",
              "│ V90        ┆            ┆            ┆ 1         ┆   ┆            ┆        ┆          ┆          │\n",
              "│ 197901A4NI ┆ 2          ┆ 1          ┆ 1979-04-0 ┆ … ┆ Daylight   ┆ Male   ┆ Slight   ┆ 36 to 45 │\n",
              "│ E33        ┆            ┆            ┆ 1         ┆   ┆            ┆        ┆          ┆          │\n",
              "│ 197901A4SK ┆ 2          ┆ 1          ┆ 1979-04-0 ┆ … ┆ Darkness   ┆ Male   ┆ Slight   ┆ 46 to 55 │\n",
              "│ O47        ┆            ┆            ┆ 1         ┆   ┆ lights lit ┆        ┆          ┆          │\n",
              "└────────────┴────────────┴────────────┴───────────┴───┴────────────┴────────┴──────────┴──────────┘"
            ],
            "text/html": [
              "<div><style>\n",
              ".dataframe > thead > tr > th,\n",
              ".dataframe > tbody > tr > td {\n",
              "  text-align: right;\n",
              "}\n",
              "</style>\n",
              "<small>shape: (5, 14)</small><table border=\"1\" class=\"dataframe\"><thead><tr><th>Accident_Index</th><th>Number_of_Vehicles</th><th>Number_of_Casualties</th><th>Date</th><th>Time</th><th>Speed_limit</th><th>Road_conditions</th><th>Weather_conditions</th><th>Day</th><th>Road_type</th><th>Light_conditions</th><th>Gender</th><th>Severity</th><th>Age_Grp</th></tr><tr><td>str</td><td>i64</td><td>i64</td><td>str</td><td>str</td><td>f64</td><td>str</td><td>str</td><td>str</td><td>str</td><td>str</td><td>str</td><td>str</td><td>str</td></tr></thead><tbody><tr><td>&quot;197901A1SEE71&quot;</td><td>2</td><td>1</td><td>&quot;1979-01-01&quot;</td><td>&quot;18:20&quot;</td><td>50.0</td><td>&quot;Snow&quot;</td><td>&quot;Unknown&quot;</td><td>&quot;Monday&quot;</td><td>&quot;Dual carriagew…</td><td>&quot;Darkness light…</td><td>&quot;Male&quot;</td><td>&quot;Serious&quot;</td><td>&quot;36 to 45&quot;</td></tr><tr><td>&quot;197901A2JDW40&quot;</td><td>1</td><td>1</td><td>&quot;1979-02-01&quot;</td><td>&quot;09:15&quot;</td><td>30.0</td><td>&quot;Snow&quot;</td><td>&quot;Unknown&quot;</td><td>&quot;Tuesday&quot;</td><td>&quot;Unknown&quot;</td><td>&quot;Daylight&quot;</td><td>&quot;Male&quot;</td><td>&quot;Slight&quot;</td><td>&quot;46 to 55&quot;</td></tr><tr><td>&quot;197901A4IJV90&quot;</td><td>2</td><td>1</td><td>&quot;1979-04-01&quot;</td><td>&quot;08:45&quot;</td><td>30.0</td><td>&quot;Snow&quot;</td><td>&quot;Unknown&quot;</td><td>&quot;Thursday&quot;</td><td>&quot;Unknown&quot;</td><td>&quot;Daylight&quot;</td><td>&quot;Male&quot;</td><td>&quot;Slight&quot;</td><td>&quot;46 to 55&quot;</td></tr><tr><td>&quot;197901A4NIE33&quot;</td><td>2</td><td>1</td><td>&quot;1979-04-01&quot;</td><td>&quot;13:40&quot;</td><td>30.0</td><td>&quot;Wet&quot;</td><td>&quot;Unknown&quot;</td><td>&quot;Thursday&quot;</td><td>&quot;Unknown&quot;</td><td>&quot;Daylight&quot;</td><td>&quot;Male&quot;</td><td>&quot;Slight&quot;</td><td>&quot;36 to 45&quot;</td></tr><tr><td>&quot;197901A4SKO47&quot;</td><td>2</td><td>1</td><td>&quot;1979-04-01&quot;</td><td>&quot;18:50&quot;</td><td>30.0</td><td>&quot;Wet&quot;</td><td>&quot;Unknown&quot;</td><td>&quot;Thursday&quot;</td><td>&quot;Unknown&quot;</td><td>&quot;Darkness light…</td><td>&quot;Male&quot;</td><td>&quot;Slight&quot;</td><td>&quot;46 to 55&quot;</td></tr></tbody></table></div>"
            ]
          },
          "metadata": {},
          "execution_count": 20
        }
      ]
    },
    {
      "cell_type": "markdown",
      "source": [
        "### 03. Data unique values check."
      ],
      "metadata": {
        "id": "BCFsDEsfZ3PP"
      }
    },
    {
      "cell_type": "code",
      "source": [
        "uniqueRoad_conditions = df_total['Road_conditions'].unique()\n",
        "print(\"Number of unique values in the 'Road_conditions' column:\", uniqueRoad_conditions)"
      ],
      "metadata": {
        "colab": {
          "base_uri": "https://localhost:8080/"
        },
        "id": "lDGj0CyAUtFg",
        "outputId": "e493988e-234a-47fe-ff5b-e18aa317ca91"
      },
      "execution_count": 21,
      "outputs": [
        {
          "output_type": "stream",
          "name": "stdout",
          "text": [
            "Number of unique values in the 'Road_conditions' column: shape: (6,)\n",
            "Series: 'Road_conditions' [str]\n",
            "[\n",
            "\t\"Wet\"\n",
            "\t\"Snow\"\n",
            "\t\"Missing Data\"\n",
            "\t\"Dry\"\n",
            "\t\"Frost\"\n",
            "\t\"Flood\"\n",
            "]\n"
          ]
        }
      ]
    },
    {
      "cell_type": "code",
      "source": [
        "# Weather_conditions\n",
        "unique_wconditions = df_total['Weather_conditions'].unique()\n",
        "print(\"Number of unique values in the 'Weather_conditions' column:\", unique_wconditions)"
      ],
      "metadata": {
        "colab": {
          "base_uri": "https://localhost:8080/"
        },
        "id": "z_iOFfJiV4x8",
        "outputId": "535ae273-c98b-4a01-a616-f683045e7294"
      },
      "execution_count": 22,
      "outputs": [
        {
          "output_type": "stream",
          "name": "stdout",
          "text": [
            "Number of unique values in the 'Weather_conditions' column: shape: (10,)\n",
            "Series: 'Weather_conditions' [str]\n",
            "[\n",
            "\t\"Rain\"\n",
            "\t\"Snow\"\n",
            "\t\"Snow and windy…\n",
            "\t\"Clear and wind…\n",
            "\t\"Unknown\"\n",
            "\t\"Clear\"\n",
            "\t\"Fog\"\n",
            "\t\"Other\"\n",
            "\t\"Rain and windy…\n",
            "\t\"Missing data\"\n",
            "]\n"
          ]
        }
      ]
    },
    {
      "cell_type": "code",
      "source": [
        "# Light_conditions\n",
        "unique_Lconditions = df_total['Light_conditions'].unique()\n",
        "print(\"Number of unique values in the 'Light_conditions' column:\", unique_Lconditions)"
      ],
      "metadata": {
        "colab": {
          "base_uri": "https://localhost:8080/"
        },
        "id": "Hglig2HdV4tw",
        "outputId": "669facb3-39d5-44eb-a1b8-aa34f4b02364"
      },
      "execution_count": 23,
      "outputs": [
        {
          "output_type": "stream",
          "name": "stdout",
          "text": [
            "Number of unique values in the 'Light_conditions' column: shape: (3,)\n",
            "Series: 'Light_conditions' [str]\n",
            "[\n",
            "\t\"Darkness no li…\n",
            "\t\"Daylight\"\n",
            "\t\"Darkness light…\n",
            "]\n"
          ]
        }
      ]
    },
    {
      "cell_type": "code",
      "source": [
        "unique_age = df_total['Age_Grp'].unique()\n",
        "print(\"Number of unique values in the 'Age_Grp' column:\", unique_age)"
      ],
      "metadata": {
        "colab": {
          "base_uri": "https://localhost:8080/"
        },
        "id": "azjzYEtfV4qI",
        "outputId": "0d3fcc38-f597-411b-c350-21ef1a96cec8"
      },
      "execution_count": 24,
      "outputs": [
        {
          "output_type": "stream",
          "name": "stdout",
          "text": [
            "Number of unique values in the 'Age_Grp' column: shape: (9,)\n",
            "Series: 'Age_Grp' [str]\n",
            "[\n",
            "\t\"46 to 55\"\n",
            "\t\"36 to 45\"\n",
            "\t\"66 to 75\"\n",
            "\t\"26 to 35\"\n",
            "\t\"56 to 65\"\n",
            "\t\"6 to 10\"\n",
            "\t\"21 to 25\"\n",
            "\t\"11 to 15\"\n",
            "\t\"16 to 20\"\n",
            "]\n"
          ]
        }
      ]
    },
    {
      "cell_type": "markdown",
      "source": [
        "### 04. Aggregate the data\n",
        "\n",
        "We use some functions such as filter(), select(), groupby(), mean, median etc."
      ],
      "metadata": {
        "id": "jJa0WqRfCrEb"
      }
    },
    {
      "cell_type": "markdown",
      "source": [
        "We found out the accident by ['Speed_limit',\n",
        "  'Road_conditions',\n",
        "  'Weather_conditions',\n",
        "  'Road_type',\n",
        "  'Light_conditions',\n",
        "  'Gender',\n",
        "  'Age_Grp']\n",
        "\n"
      ],
      "metadata": {
        "id": "0qKzIKrIwL8L"
      }
    },
    {
      "cell_type": "code",
      "source": [
        "# Unexpectedly, we found that most accidents occur when the speed is 30.\n",
        "Accident_by_Speedlimit = df_total.groupby('Speed_limit').agg(pl.col('Accident_Index').count().alias('the number of accident by Speedlimit')).sort(by='the number of accident by Speedlimit', reverse=True).head(5)\n",
        "Accident_by_Speedlimit"
      ],
      "metadata": {
        "id": "irxv1SATV4ls",
        "colab": {
          "base_uri": "https://localhost:8080/",
          "height": 309
        },
        "outputId": "01c8e262-08b3-4a76-e361-af7fe7b91ee9"
      },
      "execution_count": 25,
      "outputs": [
        {
          "output_type": "stream",
          "name": "stderr",
          "text": [
            "<ipython-input-25-cea5d08f46cb>:2: DeprecationWarning: `reverse` is deprecated as an argument to `sort`; use `descending` instead.\n",
            "  Accident_by_Speedlimit = df_total.groupby('Speed_limit').agg(pl.col('Accident_Index').count().alias('the number of accident by Speedlimit')).sort(by='the number of accident by Speedlimit', reverse=True).head(5)\n"
          ]
        },
        {
          "output_type": "execute_result",
          "data": {
            "text/plain": [
              "shape: (5, 2)\n",
              "┌─────────────┬───────────────────────────────────┐\n",
              "│ Speed_limit ┆ the number of accident by Speedl… │\n",
              "│ ---         ┆ ---                               │\n",
              "│ f64         ┆ u32                               │\n",
              "╞═════════════╪═══════════════════════════════════╡\n",
              "│ 30.0        ┆ 686784                            │\n",
              "│ 60.0        ┆ 58557                             │\n",
              "│ 40.0        ┆ 53337                             │\n",
              "│ 70.0        ┆ 11363                             │\n",
              "│ 20.0        ┆ 10836                             │\n",
              "└─────────────┴───────────────────────────────────┘"
            ],
            "text/html": [
              "<div><style>\n",
              ".dataframe > thead > tr > th,\n",
              ".dataframe > tbody > tr > td {\n",
              "  text-align: right;\n",
              "}\n",
              "</style>\n",
              "<small>shape: (5, 2)</small><table border=\"1\" class=\"dataframe\"><thead><tr><th>Speed_limit</th><th>the number of accident by Speedlimit</th></tr><tr><td>f64</td><td>u32</td></tr></thead><tbody><tr><td>30.0</td><td>686784</td></tr><tr><td>60.0</td><td>58557</td></tr><tr><td>40.0</td><td>53337</td></tr><tr><td>70.0</td><td>11363</td></tr><tr><td>20.0</td><td>10836</td></tr></tbody></table></div>"
            ]
          },
          "metadata": {},
          "execution_count": 25
        }
      ]
    },
    {
      "cell_type": "code",
      "source": [
        "Accident_by_Road_conditions = df_total.groupby('Road_conditions').agg(pl.col('Accident_Index').count().alias('the number of accident by Road_conditions')).sort(by='the number of accident by Road_conditions', reverse=True).head(5)\n",
        "Accident_by_Road_conditions"
      ],
      "metadata": {
        "id": "r-CMhVCdV4hz",
        "colab": {
          "base_uri": "https://localhost:8080/",
          "height": 309
        },
        "outputId": "d3e807c1-18b8-400d-de88-9b55f9c37319"
      },
      "execution_count": 26,
      "outputs": [
        {
          "output_type": "stream",
          "name": "stderr",
          "text": [
            "<ipython-input-26-fb0708a9e2ff>:1: DeprecationWarning: `reverse` is deprecated as an argument to `sort`; use `descending` instead.\n",
            "  Accident_by_Road_conditions = df_total.groupby('Road_conditions').agg(pl.col('Accident_Index').count().alias('the number of accident by Road_conditions')).sort(by='the number of accident by Road_conditions', reverse=True).head(5)\n"
          ]
        },
        {
          "output_type": "execute_result",
          "data": {
            "text/plain": [
              "shape: (5, 2)\n",
              "┌─────────────────┬───────────────────────────────────┐\n",
              "│ Road_conditions ┆ the number of accident by Road_c… │\n",
              "│ ---             ┆ ---                               │\n",
              "│ str             ┆ u32                               │\n",
              "╞═════════════════╪═══════════════════════════════════╡\n",
              "│ Dry             ┆ 633936                            │\n",
              "│ Wet             ┆ 184279                            │\n",
              "│ Frost           ┆ 6020                              │\n",
              "│ Snow            ┆ 1710                              │\n",
              "│ Missing Data    ┆ 1648                              │\n",
              "└─────────────────┴───────────────────────────────────┘"
            ],
            "text/html": [
              "<div><style>\n",
              ".dataframe > thead > tr > th,\n",
              ".dataframe > tbody > tr > td {\n",
              "  text-align: right;\n",
              "}\n",
              "</style>\n",
              "<small>shape: (5, 2)</small><table border=\"1\" class=\"dataframe\"><thead><tr><th>Road_conditions</th><th>the number of accident by Road_conditions</th></tr><tr><td>str</td><td>u32</td></tr></thead><tbody><tr><td>&quot;Dry&quot;</td><td>633936</td></tr><tr><td>&quot;Wet&quot;</td><td>184279</td></tr><tr><td>&quot;Frost&quot;</td><td>6020</td></tr><tr><td>&quot;Snow&quot;</td><td>1710</td></tr><tr><td>&quot;Missing Data&quot;</td><td>1648</td></tr></tbody></table></div>"
            ]
          },
          "metadata": {},
          "execution_count": 26
        }
      ]
    },
    {
      "cell_type": "code",
      "source": [
        "Accident_by_Weather_conditions = df_total.groupby('Weather_conditions').agg(pl.col('Accident_Index').count().alias('the number of accident by Weather_conditions')).sort(by='the number of accident by Weather_conditions', reverse=True).head(5)\n",
        "Accident_by_Weather_conditions"
      ],
      "metadata": {
        "id": "9etrxq8yV4c-",
        "colab": {
          "base_uri": "https://localhost:8080/",
          "height": 309
        },
        "outputId": "7e3b2208-da3f-4939-d7bf-defb6fe6f83c"
      },
      "execution_count": 27,
      "outputs": [
        {
          "output_type": "stream",
          "name": "stderr",
          "text": [
            "<ipython-input-27-1b0d7ea32827>:1: DeprecationWarning: `reverse` is deprecated as an argument to `sort`; use `descending` instead.\n",
            "  Accident_by_Weather_conditions = df_total.groupby('Weather_conditions').agg(pl.col('Accident_Index').count().alias('the number of accident by Weather_conditions')).sort(by='the number of accident by Weather_conditions', reverse=True).head(5)\n"
          ]
        },
        {
          "output_type": "execute_result",
          "data": {
            "text/plain": [
              "shape: (5, 2)\n",
              "┌────────────────────┬───────────────────────────────────┐\n",
              "│ Weather_conditions ┆ the number of accident by Weathe… │\n",
              "│ ---                ┆ ---                               │\n",
              "│ str                ┆ u32                               │\n",
              "╞════════════════════╪═══════════════════════════════════╡\n",
              "│ Clear              ┆ 683162                            │\n",
              "│ Rain               ┆ 82007                             │\n",
              "│ Unknown            ┆ 24081                             │\n",
              "│ Clear and windy    ┆ 11891                             │\n",
              "│ Other              ┆ 11820                             │\n",
              "└────────────────────┴───────────────────────────────────┘"
            ],
            "text/html": [
              "<div><style>\n",
              ".dataframe > thead > tr > th,\n",
              ".dataframe > tbody > tr > td {\n",
              "  text-align: right;\n",
              "}\n",
              "</style>\n",
              "<small>shape: (5, 2)</small><table border=\"1\" class=\"dataframe\"><thead><tr><th>Weather_conditions</th><th>the number of accident by Weather_conditions</th></tr><tr><td>str</td><td>u32</td></tr></thead><tbody><tr><td>&quot;Clear&quot;</td><td>683162</td></tr><tr><td>&quot;Rain&quot;</td><td>82007</td></tr><tr><td>&quot;Unknown&quot;</td><td>24081</td></tr><tr><td>&quot;Clear and wind…</td><td>11891</td></tr><tr><td>&quot;Other&quot;</td><td>11820</td></tr></tbody></table></div>"
            ]
          },
          "metadata": {},
          "execution_count": 27
        }
      ]
    },
    {
      "cell_type": "code",
      "source": [
        "Accident_by_Road_type = df_total.groupby('Road_type').agg(pl.col('Accident_Index').count().alias('the number of accident by Road_type')).sort(by='the number of accident by Road_type', reverse=True).head(5)\n",
        "Accident_by_Road_type"
      ],
      "metadata": {
        "colab": {
          "base_uri": "https://localhost:8080/",
          "height": 309
        },
        "id": "SQUu5lerzJgW",
        "outputId": "e89da27e-c64d-4384-af04-0f2a00ea267b"
      },
      "execution_count": 28,
      "outputs": [
        {
          "output_type": "stream",
          "name": "stderr",
          "text": [
            "<ipython-input-28-7d2f3bcc4e7b>:1: DeprecationWarning: `reverse` is deprecated as an argument to `sort`; use `descending` instead.\n",
            "  Accident_by_Road_type = df_total.groupby('Road_type').agg(pl.col('Accident_Index').count().alias('the number of accident by Road_type')).sort(by='the number of accident by Road_type', reverse=True).head(5)\n"
          ]
        },
        {
          "output_type": "execute_result",
          "data": {
            "text/plain": [
              "shape: (5, 2)\n",
              "┌────────────────────┬───────────────────────────────────┐\n",
              "│ Road_type          ┆ the number of accident by Road_t… │\n",
              "│ ---                ┆ ---                               │\n",
              "│ str                ┆ u32                               │\n",
              "╞════════════════════╪═══════════════════════════════════╡\n",
              "│ Single carriageway ┆ 656703                            │\n",
              "│ Roundabout         ┆ 75066                             │\n",
              "│ Dual carriageway   ┆ 59037                             │\n",
              "│ Unknown            ┆ 30647                             │\n",
              "│ One way sreet      ┆ 5562                              │\n",
              "└────────────────────┴───────────────────────────────────┘"
            ],
            "text/html": [
              "<div><style>\n",
              ".dataframe > thead > tr > th,\n",
              ".dataframe > tbody > tr > td {\n",
              "  text-align: right;\n",
              "}\n",
              "</style>\n",
              "<small>shape: (5, 2)</small><table border=\"1\" class=\"dataframe\"><thead><tr><th>Road_type</th><th>the number of accident by Road_type</th></tr><tr><td>str</td><td>u32</td></tr></thead><tbody><tr><td>&quot;Single carriag…</td><td>656703</td></tr><tr><td>&quot;Roundabout&quot;</td><td>75066</td></tr><tr><td>&quot;Dual carriagew…</td><td>59037</td></tr><tr><td>&quot;Unknown&quot;</td><td>30647</td></tr><tr><td>&quot;One way sreet&quot;</td><td>5562</td></tr></tbody></table></div>"
            ]
          },
          "metadata": {},
          "execution_count": 28
        }
      ]
    },
    {
      "cell_type": "code",
      "source": [
        "Accident_by_Light_conditions = df_total.groupby('Light_conditions').agg(pl.col('Accident_Index').count().alias('the number of accident by Light_conditions')).sort(by='the number of accident by Light_conditions', reverse=True).head(5)\n",
        "Accident_by_Light_conditions"
      ],
      "metadata": {
        "colab": {
          "base_uri": "https://localhost:8080/",
          "height": 247
        },
        "id": "7N0kHOPCzQ-w",
        "outputId": "1e4e5cf5-35d7-4ac5-a990-edce48a8bc01"
      },
      "execution_count": 29,
      "outputs": [
        {
          "output_type": "stream",
          "name": "stderr",
          "text": [
            "<ipython-input-29-ed15f2150c57>:1: DeprecationWarning: `reverse` is deprecated as an argument to `sort`; use `descending` instead.\n",
            "  Accident_by_Light_conditions = df_total.groupby('Light_conditions').agg(pl.col('Accident_Index').count().alias('the number of accident by Light_conditions')).sort(by='the number of accident by Light_conditions', reverse=True).head(5)\n"
          ]
        },
        {
          "output_type": "execute_result",
          "data": {
            "text/plain": [
              "shape: (3, 2)\n",
              "┌─────────────────────┬───────────────────────────────────┐\n",
              "│ Light_conditions    ┆ the number of accident by Light_… │\n",
              "│ ---                 ┆ ---                               │\n",
              "│ str                 ┆ u32                               │\n",
              "╞═════════════════════╪═══════════════════════════════════╡\n",
              "│ Daylight            ┆ 660657                            │\n",
              "│ Darkness lights lit ┆ 142039                            │\n",
              "│ Darkness no lights  ┆ 25165                             │\n",
              "└─────────────────────┴───────────────────────────────────┘"
            ],
            "text/html": [
              "<div><style>\n",
              ".dataframe > thead > tr > th,\n",
              ".dataframe > tbody > tr > td {\n",
              "  text-align: right;\n",
              "}\n",
              "</style>\n",
              "<small>shape: (3, 2)</small><table border=\"1\" class=\"dataframe\"><thead><tr><th>Light_conditions</th><th>the number of accident by Light_conditions</th></tr><tr><td>str</td><td>u32</td></tr></thead><tbody><tr><td>&quot;Daylight&quot;</td><td>660657</td></tr><tr><td>&quot;Darkness light…</td><td>142039</td></tr><tr><td>&quot;Darkness no li…</td><td>25165</td></tr></tbody></table></div>"
            ]
          },
          "metadata": {},
          "execution_count": 29
        }
      ]
    },
    {
      "cell_type": "code",
      "source": [
        "Accident_by_Gender = df_total.groupby('Gender').agg(pl.col('Accident_Index').count().alias('the number of accident by Gender')).sort(by='the number of accident by Gender', reverse=True).head(5)\n",
        "Accident_by_Gender"
      ],
      "metadata": {
        "colab": {
          "base_uri": "https://localhost:8080/",
          "height": 247
        },
        "id": "-O7Agj8MzRSx",
        "outputId": "4db02fbd-0440-4cc7-fb7f-b477976ee783"
      },
      "execution_count": 30,
      "outputs": [
        {
          "output_type": "stream",
          "name": "stderr",
          "text": [
            "<ipython-input-30-b18c0ca8d305>:1: DeprecationWarning: `reverse` is deprecated as an argument to `sort`; use `descending` instead.\n",
            "  Accident_by_Gender = df_total.groupby('Gender').agg(pl.col('Accident_Index').count().alias('the number of accident by Gender')).sort(by='the number of accident by Gender', reverse=True).head(5)\n"
          ]
        },
        {
          "output_type": "execute_result",
          "data": {
            "text/plain": [
              "shape: (3, 2)\n",
              "┌────────┬──────────────────────────────────┐\n",
              "│ Gender ┆ the number of accident by Gender │\n",
              "│ ---    ┆ ---                              │\n",
              "│ str    ┆ u32                              │\n",
              "╞════════╪══════════════════════════════════╡\n",
              "│ Male   ┆ 660025                           │\n",
              "│ Female ┆ 167717                           │\n",
              "│ Other  ┆ 119                              │\n",
              "└────────┴──────────────────────────────────┘"
            ],
            "text/html": [
              "<div><style>\n",
              ".dataframe > thead > tr > th,\n",
              ".dataframe > tbody > tr > td {\n",
              "  text-align: right;\n",
              "}\n",
              "</style>\n",
              "<small>shape: (3, 2)</small><table border=\"1\" class=\"dataframe\"><thead><tr><th>Gender</th><th>the number of accident by Gender</th></tr><tr><td>str</td><td>u32</td></tr></thead><tbody><tr><td>&quot;Male&quot;</td><td>660025</td></tr><tr><td>&quot;Female&quot;</td><td>167717</td></tr><tr><td>&quot;Other&quot;</td><td>119</td></tr></tbody></table></div>"
            ]
          },
          "metadata": {},
          "execution_count": 30
        }
      ]
    },
    {
      "cell_type": "code",
      "source": [
        "Accident_by_Age_Grp = df_total.groupby('Age_Grp').agg(pl.col('Accident_Index').count().alias('the number of accident by Age_Grp')).sort(by='the number of accident by Age_Grp', reverse=True).head(10)\n",
        "Accident_by_Age_Grp"
      ],
      "metadata": {
        "colab": {
          "base_uri": "https://localhost:8080/",
          "height": 435
        },
        "id": "FLI_klOK0GN7",
        "outputId": "987f4c5d-564a-47d3-a52d-a715cffef248"
      },
      "execution_count": 31,
      "outputs": [
        {
          "output_type": "stream",
          "name": "stderr",
          "text": [
            "<ipython-input-31-76c413cf3744>:1: DeprecationWarning: `reverse` is deprecated as an argument to `sort`; use `descending` instead.\n",
            "  Accident_by_Age_Grp = df_total.groupby('Age_Grp').agg(pl.col('Accident_Index').count().alias('the number of accident by Age_Grp')).sort(by='the number of accident by Age_Grp', reverse=True).head(10)\n"
          ]
        },
        {
          "output_type": "execute_result",
          "data": {
            "text/plain": [
              "shape: (9, 2)\n",
              "┌──────────┬───────────────────────────────────┐\n",
              "│ Age_Grp  ┆ the number of accident by Age_Gr… │\n",
              "│ ---      ┆ ---                               │\n",
              "│ str      ┆ u32                               │\n",
              "╞══════════╪═══════════════════════════════════╡\n",
              "│ 11 to 15 ┆ 169943                            │\n",
              "│ 26 to 35 ┆ 145078                            │\n",
              "│ 16 to 20 ┆ 122602                            │\n",
              "│ 36 to 45 ┆ 103773                            │\n",
              "│ …        ┆ …                                 │\n",
              "│ 46 to 55 ┆ 73577                             │\n",
              "│ 6 to 10  ┆ 68021                             │\n",
              "│ 56 to 65 ┆ 41913                             │\n",
              "│ 66 to 75 ┆ 15663                             │\n",
              "└──────────┴───────────────────────────────────┘"
            ],
            "text/html": [
              "<div><style>\n",
              ".dataframe > thead > tr > th,\n",
              ".dataframe > tbody > tr > td {\n",
              "  text-align: right;\n",
              "}\n",
              "</style>\n",
              "<small>shape: (9, 2)</small><table border=\"1\" class=\"dataframe\"><thead><tr><th>Age_Grp</th><th>the number of accident by Age_Grp</th></tr><tr><td>str</td><td>u32</td></tr></thead><tbody><tr><td>&quot;11 to 15&quot;</td><td>169943</td></tr><tr><td>&quot;26 to 35&quot;</td><td>145078</td></tr><tr><td>&quot;16 to 20&quot;</td><td>122602</td></tr><tr><td>&quot;36 to 45&quot;</td><td>103773</td></tr><tr><td>&quot;21 to 25&quot;</td><td>87291</td></tr><tr><td>&quot;46 to 55&quot;</td><td>73577</td></tr><tr><td>&quot;6 to 10&quot;</td><td>68021</td></tr><tr><td>&quot;56 to 65&quot;</td><td>41913</td></tr><tr><td>&quot;66 to 75&quot;</td><td>15663</td></tr></tbody></table></div>"
            ]
          },
          "metadata": {},
          "execution_count": 31
        }
      ]
    },
    {
      "cell_type": "code",
      "source": [
        "# Severity\n",
        "Accident_by_Severity = df_total.groupby('Severity').agg(pl.col('Accident_Index').count().alias('Accident by Severity')).sort(by='Accident by Severity', reverse=True).head(5)\n",
        "Accident_by_Severity"
      ],
      "metadata": {
        "colab": {
          "base_uri": "https://localhost:8080/",
          "height": 247
        },
        "id": "uJKfaz4I0p6l",
        "outputId": "fefa9e2f-7994-4db3-bb54-e841b7d03f38"
      },
      "execution_count": 32,
      "outputs": [
        {
          "output_type": "stream",
          "name": "stderr",
          "text": [
            "<ipython-input-32-b73c72f40e9f>:2: DeprecationWarning: `reverse` is deprecated as an argument to `sort`; use `descending` instead.\n",
            "  Accident_by_Severity = df_total.groupby('Severity').agg(pl.col('Accident_Index').count().alias('Accident by Severity')).sort(by='Accident by Severity', reverse=True).head(5)\n"
          ]
        },
        {
          "output_type": "execute_result",
          "data": {
            "text/plain": [
              "shape: (3, 2)\n",
              "┌──────────┬──────────────────────┐\n",
              "│ Severity ┆ Accident by Severity │\n",
              "│ ---      ┆ ---                  │\n",
              "│ str      ┆ u32                  │\n",
              "╞══════════╪══════════════════════╡\n",
              "│ Slight   ┆ 681568               │\n",
              "│ Serious  ┆ 139563               │\n",
              "│ Fatal    ┆ 6730                 │\n",
              "└──────────┴──────────────────────┘"
            ],
            "text/html": [
              "<div><style>\n",
              ".dataframe > thead > tr > th,\n",
              ".dataframe > tbody > tr > td {\n",
              "  text-align: right;\n",
              "}\n",
              "</style>\n",
              "<small>shape: (3, 2)</small><table border=\"1\" class=\"dataframe\"><thead><tr><th>Severity</th><th>Accident by Severity</th></tr><tr><td>str</td><td>u32</td></tr></thead><tbody><tr><td>&quot;Slight&quot;</td><td>681568</td></tr><tr><td>&quot;Serious&quot;</td><td>139563</td></tr><tr><td>&quot;Fatal&quot;</td><td>6730</td></tr></tbody></table></div>"
            ]
          },
          "metadata": {},
          "execution_count": 32
        }
      ]
    },
    {
      "cell_type": "markdown",
      "source": [
        "### 05. Which age group is the most dangerous in bike accidents?"
      ],
      "metadata": {
        "id": "_vTVra7VC_N7"
      }
    },
    {
      "cell_type": "code",
      "source": [
        "# let's look into the \"Serious\" accidents using filter.\n",
        "# we found out about 30% of the serious accident is the 11 to 15 age group.\n",
        "serious_df = df_total.filter((pl.col('Severity') == 'Serious') & (pl.col('Age_Grp') == \"11 to 15\"))\n",
        "print(serious_df)\n"
      ],
      "metadata": {
        "colab": {
          "base_uri": "https://localhost:8080/"
        },
        "id": "kMXrH6iv0p4S",
        "outputId": "c4eb72fa-b41d-4614-8435-fcd6fe22c118"
      },
      "execution_count": 33,
      "outputs": [
        {
          "output_type": "stream",
          "name": "stdout",
          "text": [
            "shape: (28242, 14)\n",
            "┌────────────┬────────────┬────────────┬───────────┬───┬────────────┬────────┬──────────┬──────────┐\n",
            "│ Accident_I ┆ Number_of_ ┆ Number_of_ ┆ Date      ┆ … ┆ Light_cond ┆ Gender ┆ Severity ┆ Age_Grp  │\n",
            "│ ndex       ┆ Vehicles   ┆ Casualties ┆ ---       ┆   ┆ itions     ┆ ---    ┆ ---      ┆ ---      │\n",
            "│ ---        ┆ ---        ┆ ---        ┆ str       ┆   ┆ ---        ┆ str    ┆ str      ┆ str      │\n",
            "│ str        ┆ i64        ┆ i64        ┆           ┆   ┆ str        ┆        ┆          ┆          │\n",
            "╞════════════╪════════════╪════════════╪═══════════╪═══╪════════════╪════════╪══════════╪══════════╡\n",
            "│ 197901A7PD ┆ 2          ┆ 1          ┆ 1979-07-0 ┆ … ┆ Daylight   ┆ Male   ┆ Serious  ┆ 11 to 15 │\n",
            "│ D49        ┆            ┆            ┆ 1         ┆   ┆            ┆        ┆          ┆          │\n",
            "│ 197901A8HI ┆ 2          ┆ 1          ┆ 1979-08-0 ┆ … ┆ Daylight   ┆ Male   ┆ Serious  ┆ 11 to 15 │\n",
            "│ D35        ┆            ┆            ┆ 1         ┆   ┆            ┆        ┆          ┆          │\n",
            "│ 197901ACUG ┆ 3          ┆ 1          ┆ 1979-12-0 ┆ … ┆ Darkness   ┆ Male   ┆ Serious  ┆ 11 to 15 │\n",
            "│ Q54        ┆            ┆            ┆ 1         ┆   ┆ lights lit ┆        ┆          ┆          │\n",
            "│ 197901APSB ┆ 1          ┆ 1          ┆ 1979-01-2 ┆ … ┆ Darkness   ┆ Male   ┆ Serious  ┆ 11 to 15 │\n",
            "│ P97        ┆            ┆            ┆ 5         ┆   ┆ lights lit ┆        ┆          ┆          │\n",
            "│ …          ┆ …          ┆ …          ┆ …         ┆ … ┆ …          ┆ …      ┆ …        ┆ …        │\n",
            "│ 201897NE00 ┆ 2          ┆ 1          ┆ 2018-08-2 ┆ … ┆ Daylight   ┆ Male   ┆ Serious  ┆ 11 to 15 │\n",
            "│ 808        ┆            ┆            ┆ 0         ┆   ┆            ┆        ┆          ┆          │\n",
            "│ 201897UA70 ┆ 2          ┆ 1          ┆ 2018-10-1 ┆ … ┆ Daylight   ┆ Male   ┆ Serious  ┆ 11 to 15 │\n",
            "│ 611        ┆            ┆            ┆ 1         ┆   ┆            ┆        ┆          ┆          │\n",
            "│ 201897UC70 ┆ 2          ┆ 1          ┆ 2018-10-1 ┆ … ┆ Daylight   ┆ Male   ┆ Serious  ┆ 11 to 15 │\n",
            "│ 310        ┆            ┆            ┆ 7         ┆   ┆            ┆        ┆          ┆          │\n",
            "│ 2018983120 ┆ 2          ┆ 1          ┆ 2018-10-0 ┆ … ┆ Daylight   ┆ Male   ┆ Serious  ┆ 11 to 15 │\n",
            "│ 618        ┆            ┆            ┆ 8         ┆   ┆            ┆        ┆          ┆          │\n",
            "└────────────┴────────────┴────────────┴───────────┴───┴────────────┴────────┴──────────┴──────────┘\n"
          ]
        }
      ]
    },
    {
      "cell_type": "markdown",
      "source": [
        "### 06. Analysis using date column"
      ],
      "metadata": {
        "id": "qo0ZYAtlDbFR"
      }
    },
    {
      "cell_type": "code",
      "source": [
        "df_total = df_total.with_column(pl.col('Date').str.strptime(pl.Date, strict=False))\n",
        "df_total.with_column(pl.col('Date').dt.year().alias('year')).groupby('year').agg(pl.col('Accident_Index').count())"
      ],
      "metadata": {
        "id": "t1VZ8pCA0p1M",
        "colab": {
          "base_uri": "https://localhost:8080/",
          "height": 971
        },
        "outputId": "1398ca84-2f20-4283-b06e-2a7a11784043"
      },
      "execution_count": 34,
      "outputs": [
        {
          "output_type": "stream",
          "name": "stderr",
          "text": [
            "<ipython-input-34-fb49a30af94e>:1: DeprecationWarning: `DataFrame.with_column` has been renamed; this redirect is temporary, please use `.with_columns` instead\n",
            "  df_total = df_total.with_column(pl.col('Date').str.strptime(pl.Date, strict=False))\n",
            "<ipython-input-34-fb49a30af94e>:2: DeprecationWarning: `DataFrame.with_column` has been renamed; this redirect is temporary, please use `.with_columns` instead\n",
            "  df_total.with_column(pl.col('Date').dt.year().alias('year')).groupby('year').agg(pl.col('Accident_Index').count())\n"
          ]
        },
        {
          "output_type": "execute_result",
          "data": {
            "text/plain": [
              "shape: (40, 2)\n",
              "┌──────┬────────────────┐\n",
              "│ year ┆ Accident_Index │\n",
              "│ ---  ┆ ---            │\n",
              "│ i32  ┆ u32            │\n",
              "╞══════╪════════════════╡\n",
              "│ 2012 ┆ 17440          │\n",
              "│ 2000 ┆ 19243          │\n",
              "│ 1988 ┆ 24626          │\n",
              "│ 2010 ┆ 15552          │\n",
              "│ …    ┆ …              │\n",
              "│ 1987 ┆ 24956          │\n",
              "│ 2009 ┆ 15233          │\n",
              "│ 1997 ┆ 23208          │\n",
              "│ 1985 ┆ 25630          │\n",
              "└──────┴────────────────┘"
            ],
            "text/html": [
              "<div><style>\n",
              ".dataframe > thead > tr > th,\n",
              ".dataframe > tbody > tr > td {\n",
              "  text-align: right;\n",
              "}\n",
              "</style>\n",
              "<small>shape: (40, 2)</small><table border=\"1\" class=\"dataframe\"><thead><tr><th>year</th><th>Accident_Index</th></tr><tr><td>i32</td><td>u32</td></tr></thead><tbody><tr><td>2012</td><td>17440</td></tr><tr><td>2000</td><td>19243</td></tr><tr><td>1988</td><td>24626</td></tr><tr><td>2010</td><td>15552</td></tr><tr><td>1998</td><td>21472</td></tr><tr><td>1986</td><td>24874</td></tr><tr><td>2008</td><td>14557</td></tr><tr><td>1996</td><td>23104</td></tr><tr><td>1984</td><td>29451</td></tr><tr><td>2018</td><td>16783</td></tr><tr><td>2006</td><td>14146</td></tr><tr><td>1994</td><td>23295</td></tr><tr><td>&hellip;</td><td>&hellip;</td></tr><tr><td>2003</td><td>15866</td></tr><tr><td>1991</td><td>23420</td></tr><tr><td>1979</td><td>22490</td></tr><tr><td>2013</td><td>17822</td></tr><tr><td>2001</td><td>17823</td></tr><tr><td>1989</td><td>27060</td></tr><tr><td>2011</td><td>17402</td></tr><tr><td>1999</td><td>21362</td></tr><tr><td>1987</td><td>24956</td></tr><tr><td>2009</td><td>15233</td></tr><tr><td>1997</td><td>23208</td></tr><tr><td>1985</td><td>25630</td></tr></tbody></table></div>"
            ]
          },
          "metadata": {},
          "execution_count": 34
        }
      ]
    },
    {
      "cell_type": "code",
      "source": [
        "df_total.with_column(pl.col('Date').dt.month().alias('month')).groupby('month').agg(pl.col('Accident_Index').count())"
      ],
      "metadata": {
        "id": "MwCRC7pQ0psA",
        "colab": {
          "base_uri": "https://localhost:8080/",
          "height": 529
        },
        "outputId": "1e5ad6bf-aefc-4910-b99e-e1789ce71b69"
      },
      "execution_count": 35,
      "outputs": [
        {
          "output_type": "stream",
          "name": "stderr",
          "text": [
            "<ipython-input-35-2a638d57adb7>:1: DeprecationWarning: `DataFrame.with_column` has been renamed; this redirect is temporary, please use `.with_columns` instead\n",
            "  df_total.with_column(pl.col('Date').dt.month().alias('month')).groupby('month').agg(pl.col('Accident_Index').count())\n"
          ]
        },
        {
          "output_type": "execute_result",
          "data": {
            "text/plain": [
              "shape: (12, 2)\n",
              "┌───────┬────────────────┐\n",
              "│ month ┆ Accident_Index │\n",
              "│ ---   ┆ ---            │\n",
              "│ u32   ┆ u32            │\n",
              "╞═══════╪════════════════╡\n",
              "│ 4     ┆ 66261          │\n",
              "│ 8     ┆ 76951          │\n",
              "│ 12    ┆ 53330          │\n",
              "│ 2     ┆ 54672          │\n",
              "│ …     ┆ …              │\n",
              "│ 11    ┆ 67468          │\n",
              "│ 1     ┆ 61477          │\n",
              "│ 5     ┆ 75664          │\n",
              "│ 9     ┆ 75396          │\n",
              "└───────┴────────────────┘"
            ],
            "text/html": [
              "<div><style>\n",
              ".dataframe > thead > tr > th,\n",
              ".dataframe > tbody > tr > td {\n",
              "  text-align: right;\n",
              "}\n",
              "</style>\n",
              "<small>shape: (12, 2)</small><table border=\"1\" class=\"dataframe\"><thead><tr><th>month</th><th>Accident_Index</th></tr><tr><td>u32</td><td>u32</td></tr></thead><tbody><tr><td>4</td><td>66261</td></tr><tr><td>8</td><td>76951</td></tr><tr><td>12</td><td>53330</td></tr><tr><td>2</td><td>54672</td></tr><tr><td>6</td><td>78722</td></tr><tr><td>10</td><td>72361</td></tr><tr><td>3</td><td>62260</td></tr><tr><td>7</td><td>83299</td></tr><tr><td>11</td><td>67468</td></tr><tr><td>1</td><td>61477</td></tr><tr><td>5</td><td>75664</td></tr><tr><td>9</td><td>75396</td></tr></tbody></table></div>"
            ]
          },
          "metadata": {},
          "execution_count": 35
        }
      ]
    },
    {
      "cell_type": "code",
      "source": [
        "Accident_by_day_gender = df_total.groupby(['Day','Gender']).agg(pl.col('Accident_Index').count()).sort(by='Accident_Index', reverse=True)\n",
        "Accident_by_day_gender"
      ],
      "metadata": {
        "id": "T7HFrrC_pbsz",
        "colab": {
          "base_uri": "https://localhost:8080/",
          "height": 791
        },
        "outputId": "9e0107f3-b8da-471b-d0c4-9095f4bfd302"
      },
      "execution_count": 38,
      "outputs": [
        {
          "output_type": "stream",
          "name": "stderr",
          "text": [
            "<ipython-input-38-a332099e91e0>:1: DeprecationWarning: `reverse` is deprecated as an argument to `sort`; use `descending` instead.\n",
            "  Accident_by_day_gender = df_total.groupby(['Day','Gender']).agg(pl.col('Accident_Index').count()).sort(by='Accident_Index', reverse=True)\n"
          ]
        },
        {
          "output_type": "execute_result",
          "data": {
            "text/plain": [
              "shape: (21, 3)\n",
              "┌───────────┬────────┬────────────────┐\n",
              "│ Day       ┆ Gender ┆ Accident_Index │\n",
              "│ ---       ┆ ---    ┆ ---            │\n",
              "│ str       ┆ str    ┆ u32            │\n",
              "╞═══════════╪════════╪════════════════╡\n",
              "│ Wednesday ┆ Male   ┆ 107911         │\n",
              "│ Thursday  ┆ Male   ┆ 107775         │\n",
              "│ Tuesday   ┆ Male   ┆ 107523         │\n",
              "│ Friday    ┆ Male   ┆ 105446         │\n",
              "│ …         ┆ …      ┆ …              │\n",
              "│ Friday    ┆ Other  ┆ 19             │\n",
              "│ Saturday  ┆ Other  ┆ 17             │\n",
              "│ Sunday    ┆ Other  ┆ 14             │\n",
              "│ Thursday  ┆ Other  ┆ 7              │\n",
              "└───────────┴────────┴────────────────┘"
            ],
            "text/html": [
              "<div><style>\n",
              ".dataframe > thead > tr > th,\n",
              ".dataframe > tbody > tr > td {\n",
              "  text-align: right;\n",
              "}\n",
              "</style>\n",
              "<small>shape: (21, 3)</small><table border=\"1\" class=\"dataframe\"><thead><tr><th>Day</th><th>Gender</th><th>Accident_Index</th></tr><tr><td>str</td><td>str</td><td>u32</td></tr></thead><tbody><tr><td>&quot;Wednesday&quot;</td><td>&quot;Male&quot;</td><td>107911</td></tr><tr><td>&quot;Thursday&quot;</td><td>&quot;Male&quot;</td><td>107775</td></tr><tr><td>&quot;Tuesday&quot;</td><td>&quot;Male&quot;</td><td>107523</td></tr><tr><td>&quot;Friday&quot;</td><td>&quot;Male&quot;</td><td>105446</td></tr><tr><td>&quot;Monday&quot;</td><td>&quot;Male&quot;</td><td>99320</td></tr><tr><td>&quot;Saturday&quot;</td><td>&quot;Male&quot;</td><td>72062</td></tr><tr><td>&quot;Sunday&quot;</td><td>&quot;Male&quot;</td><td>59988</td></tr><tr><td>&quot;Tuesday&quot;</td><td>&quot;Female&quot;</td><td>28988</td></tr><tr><td>&quot;Wednesday&quot;</td><td>&quot;Female&quot;</td><td>28825</td></tr><tr><td>&quot;Thursday&quot;</td><td>&quot;Female&quot;</td><td>28481</td></tr><tr><td>&quot;Friday&quot;</td><td>&quot;Female&quot;</td><td>26601</td></tr><tr><td>&quot;Monday&quot;</td><td>&quot;Female&quot;</td><td>26410</td></tr><tr><td>&quot;Saturday&quot;</td><td>&quot;Female&quot;</td><td>15573</td></tr><tr><td>&quot;Sunday&quot;</td><td>&quot;Female&quot;</td><td>12839</td></tr><tr><td>&quot;Tuesday&quot;</td><td>&quot;Other&quot;</td><td>23</td></tr><tr><td>&quot;Wednesday&quot;</td><td>&quot;Other&quot;</td><td>20</td></tr><tr><td>&quot;Monday&quot;</td><td>&quot;Other&quot;</td><td>19</td></tr><tr><td>&quot;Friday&quot;</td><td>&quot;Other&quot;</td><td>19</td></tr><tr><td>&quot;Saturday&quot;</td><td>&quot;Other&quot;</td><td>17</td></tr><tr><td>&quot;Sunday&quot;</td><td>&quot;Other&quot;</td><td>14</td></tr><tr><td>&quot;Thursday&quot;</td><td>&quot;Other&quot;</td><td>7</td></tr></tbody></table></div>"
            ]
          },
          "metadata": {},
          "execution_count": 38
        }
      ]
    },
    {
      "cell_type": "markdown",
      "source": [
        "### 07. EDA(Visualization)\n",
        "\n",
        "We tried to make various charts with analyzed data. "
      ],
      "metadata": {
        "id": "1jjOGrCK6ac0"
      }
    },
    {
      "cell_type": "code",
      "source": [
        "import matplotlib.pyplot as plt\n",
        "plt.bar(Accident_by_Speedlimit['Speed_limit'],Accident_by_Speedlimit['the number of accident by Speedlimit'])"
      ],
      "metadata": {
        "colab": {
          "base_uri": "https://localhost:8080/",
          "height": 447
        },
        "id": "BlRr2NLolesZ",
        "outputId": "e32c1fc0-5f0b-4cf7-8872-24d0c26c45d1"
      },
      "execution_count": 39,
      "outputs": [
        {
          "output_type": "execute_result",
          "data": {
            "text/plain": [
              "<BarContainer object of 5 artists>"
            ]
          },
          "metadata": {},
          "execution_count": 39
        },
        {
          "output_type": "display_data",
          "data": {
            "text/plain": [
              "<Figure size 640x480 with 1 Axes>"
            ],
            "image/png": "[encoded data removed]"
          },
          "metadata": {}
        }
      ]
    },
    {
      "cell_type": "code",
      "source": [
        "px.pie(Accident_by_Speedlimit,                                   # Polars DataFrame\n",
        "       names = Accident_by_Speedlimit.select('Speed_limit').to_series(),\n",
        "       values = Accident_by_Speedlimit.select('the number of accident by Speedlimit').to_series(), \n",
        "       hover_name = Accident_by_Speedlimit.select('Speed_limit').to_series(),\n",
        "       color_discrete_sequence= px.colors.sequential.Plasma_r)"
      ],
      "metadata": {
        "colab": {
          "base_uri": "https://localhost:8080/",
          "height": 542
        },
        "id": "HOx20Rn40phM",
        "outputId": "e2637081-f4ac-4c83-86d0-e0a41f745996"
      },
      "execution_count": 40,
      "outputs": [
        {
          "output_type": "display_data",
          "data": {
            "text/html": [
              "<html>\n",
              "<head><meta charset=\"utf-8\" /></head>\n",
              "<body>\n",
              "    <div>            <script src=\"https://cdnjs.cloudflare.com/ajax/libs/mathjax/2.7.5/MathJax.js?config=TeX-AMS-MML_SVG\"></script><script type=\"text/javascript\">if (window.MathJax && window.MathJax.Hub && window.MathJax.Hub.Config) {window.MathJax.Hub.Config({SVG: {font: \"STIX-Web\"}});}</script>                <script type=\"text/javascript\">window.PlotlyConfig = {MathJaxConfig: 'local'};</script>\n",
              "        <script src=\"https://cdn.plot.ly/plotly-2.18.2.min.js\"></script>                <div id=\"19877d91-22bd-444f-88af-049b06d0752b\" class=\"plotly-graph-div\" style=\"height:525px; width:100%;\"></div>            <script type=\"text/javascript\">                                    window.PLOTLYENV=window.PLOTLYENV || {};                                    if (document.getElementById(\"19877d91-22bd-444f-88af-049b06d0752b\")) {                    Plotly.newPlot(                        \"19877d91-22bd-444f-88af-049b06d0752b\",                        [{\"domain\":{\"x\":[0.0,1.0],\"y\":[0.0,1.0]},\"hovertemplate\":\"<b>%{hovertext}</b><br><br>label=%{label}<br>value=%{value}<extra></extra>\",\"hovertext\":[30.0,60.0,40.0,70.0,20.0],\"labels\":[30.0,60.0,40.0,70.0,20.0],\"legendgroup\":\"\",\"name\":\"\",\"showlegend\":true,\"values\":[686784,58557,53337,11363,10836],\"type\":\"pie\"}],                        {\"template\":{\"data\":{\"histogram2dcontour\":[{\"type\":\"histogram2dcontour\",\"colorbar\":{\"outlinewidth\":0,\"ticks\":\"\"},\"colorscale\":[[0.0,\"#0d0887\"],[0.1111111111111111,\"#46039f\"],[0.2222222222222222,\"#7201a8\"],[0.3333333333333333,\"#9c179e\"],[0.4444444444444444,\"#bd3786\"],[0.5555555555555556,\"#d8576b\"],[0.6666666666666666,\"#ed7953\"],[0.7777777777777778,\"#fb9f3a\"],[0.8888888888888888,\"#fdca26\"],[1.0,\"#f0f921\"]]}],\"choropleth\":[{\"type\":\"choropleth\",\"colorbar\":{\"outlinewidth\":0,\"ticks\":\"\"}}],\"histogram2d\":[{\"type\":\"histogram2d\",\"colorbar\":{\"outlinewidth\":0,\"ticks\":\"\"},\"colorscale\":[[0.0,\"#0d0887\"],[0.1111111111111111,\"#46039f\"],[0.2222222222222222,\"#7201a8\"],[0.3333333333333333,\"#9c179e\"],[0.4444444444444444,\"#bd3786\"],[0.5555555555555556,\"#d8576b\"],[0.6666666666666666,\"#ed7953\"],[0.7777777777777778,\"#fb9f3a\"],[0.8888888888888888,\"#fdca26\"],[1.0,\"#f0f921\"]]}],\"heatmap\":[{\"type\":\"heatmap\",\"colorbar\":{\"outlinewidth\":0,\"ticks\":\"\"},\"colorscale\":[[0.0,\"#0d0887\"],[0.1111111111111111,\"#46039f\"],[0.2222222222222222,\"#7201a8\"],[0.3333333333333333,\"#9c179e\"],[0.4444444444444444,\"#bd3786\"],[0.5555555555555556,\"#d8576b\"],[0.6666666666666666,\"#ed7953\"],[0.7777777777777778,\"#fb9f3a\"],[0.8888888888888888,\"#fdca26\"],[1.0,\"#f0f921\"]]}],\"heatmapgl\":[{\"type\":\"heatmapgl\",\"colorbar\":{\"outlinewidth\":0,\"ticks\":\"\"},\"colorscale\":[[0.0,\"#0d0887\"],[0.1111111111111111,\"#46039f\"],[0.2222222222222222,\"#7201a8\"],[0.3333333333333333,\"#9c179e\"],[0.4444444444444444,\"#bd3786\"],[0.5555555555555556,\"#d8576b\"],[0.6666666666666666,\"#ed7953\"],[0.7777777777777778,\"#fb9f3a\"],[0.8888888888888888,\"#fdca26\"],[1.0,\"#f0f921\"]]}],\"contourcarpet\":[{\"type\":\"contourcarpet\",\"colorbar\":{\"outlinewidth\":0,\"ticks\":\"\"}}],\"contour\":[{\"type\":\"contour\",\"colorbar\":{\"outlinewidth\":0,\"ticks\":\"\"},\"colorscale\":[[0.0,\"#0d0887\"],[0.1111111111111111,\"#46039f\"],[0.2222222222222222,\"#7201a8\"],[0.3333333333333333,\"#9c179e\"],[0.4444444444444444,\"#bd3786\"],[0.5555555555555556,\"#d8576b\"],[0.6666666666666666,\"#ed7953\"],[0.7777777777777778,\"#fb9f3a\"],[0.8888888888888888,\"#fdca26\"],[1.0,\"#f0f921\"]]}],\"surface\":[{\"type\":\"surface\",\"colorbar\":{\"outlinewidth\":0,\"ticks\":\"\"},\"colorscale\":[[0.0,\"#0d0887\"],[0.1111111111111111,\"#46039f\"],[0.2222222222222222,\"#7201a8\"],[0.3333333333333333,\"#9c179e\"],[0.4444444444444444,\"#bd3786\"],[0.5555555555555556,\"#d8576b\"],[0.6666666666666666,\"#ed7953\"],[0.7777777777777778,\"#fb9f3a\"],[0.8888888888888888,\"#fdca26\"],[1.0,\"#f0f921\"]]}],\"mesh3d\":[{\"type\":\"mesh3d\",\"colorbar\":{\"outlinewidth\":0,\"ticks\":\"\"}}],\"scatter\":[{\"fillpattern\":{\"fillmode\":\"overlay\",\"size\":10,\"solidity\":0.2},\"type\":\"scatter\"}],\"parcoords\":[{\"type\":\"parcoords\",\"line\":{\"colorbar\":{\"outlinewidth\":0,\"ticks\":\"\"}}}],\"scatterpolargl\":[{\"type\":\"scatterpolargl\",\"marker\":{\"colorbar\":{\"outlinewidth\":0,\"ticks\":\"\"}}}],\"bar\":[{\"error_x\":{\"color\":\"#2a3f5f\"},\"error_y\":{\"color\":\"#2a3f5f\"},\"marker\":{\"line\":{\"color\":\"#E5ECF6\",\"width\":0.5},\"pattern\":{\"fillmode\":\"overlay\",\"size\":10,\"solidity\":0.2}},\"type\":\"bar\"}],\"scattergeo\":[{\"type\":\"scattergeo\",\"marker\":{\"colorbar\":{\"outlinewidth\":0,\"ticks\":\"\"}}}],\"scatterpolar\":[{\"type\":\"scatterpolar\",\"marker\":{\"colorbar\":{\"outlinewidth\":0,\"ticks\":\"\"}}}],\"histogram\":[{\"marker\":{\"pattern\":{\"fillmode\":\"overlay\",\"size\":10,\"solidity\":0.2}},\"type\":\"histogram\"}],\"scattergl\":[{\"type\":\"scattergl\",\"marker\":{\"colorbar\":{\"outlinewidth\":0,\"ticks\":\"\"}}}],\"scatter3d\":[{\"type\":\"scatter3d\",\"line\":{\"colorbar\":{\"outlinewidth\":0,\"ticks\":\"\"}},\"marker\":{\"colorbar\":{\"outlinewidth\":0,\"ticks\":\"\"}}}],\"scattermapbox\":[{\"type\":\"scattermapbox\",\"marker\":{\"colorbar\":{\"outlinewidth\":0,\"ticks\":\"\"}}}],\"scatterternary\":[{\"type\":\"scatterternary\",\"marker\":{\"colorbar\":{\"outlinewidth\":0,\"ticks\":\"\"}}}],\"scattercarpet\":[{\"type\":\"scattercarpet\",\"marker\":{\"colorbar\":{\"outlinewidth\":0,\"ticks\":\"\"}}}],\"carpet\":[{\"aaxis\":{\"endlinecolor\":\"#2a3f5f\",\"gridcolor\":\"white\",\"linecolor\":\"white\",\"minorgridcolor\":\"white\",\"startlinecolor\":\"#2a3f5f\"},\"baxis\":{\"endlinecolor\":\"#2a3f5f\",\"gridcolor\":\"white\",\"linecolor\":\"white\",\"minorgridcolor\":\"white\",\"startlinecolor\":\"#2a3f5f\"},\"type\":\"carpet\"}],\"table\":[{\"cells\":{\"fill\":{\"color\":\"#EBF0F8\"},\"line\":{\"color\":\"white\"}},\"header\":{\"fill\":{\"color\":\"#C8D4E3\"},\"line\":{\"color\":\"white\"}},\"type\":\"table\"}],\"barpolar\":[{\"marker\":{\"line\":{\"color\":\"#E5ECF6\",\"width\":0.5},\"pattern\":{\"fillmode\":\"overlay\",\"size\":10,\"solidity\":0.2}},\"type\":\"barpolar\"}],\"pie\":[{\"automargin\":true,\"type\":\"pie\"}]},\"layout\":{\"autotypenumbers\":\"strict\",\"colorway\":[\"#636efa\",\"#EF553B\",\"#00cc96\",\"#ab63fa\",\"#FFA15A\",\"#19d3f3\",\"#FF6692\",\"#B6E880\",\"#FF97FF\",\"#FECB52\"],\"font\":{\"color\":\"#2a3f5f\"},\"hovermode\":\"closest\",\"hoverlabel\":{\"align\":\"left\"},\"paper_bgcolor\":\"white\",\"plot_bgcolor\":\"#E5ECF6\",\"polar\":{\"bgcolor\":\"#E5ECF6\",\"angularaxis\":{\"gridcolor\":\"white\",\"linecolor\":\"white\",\"ticks\":\"\"},\"radialaxis\":{\"gridcolor\":\"white\",\"linecolor\":\"white\",\"ticks\":\"\"}},\"ternary\":{\"bgcolor\":\"#E5ECF6\",\"aaxis\":{\"gridcolor\":\"white\",\"linecolor\":\"white\",\"ticks\":\"\"},\"baxis\":{\"gridcolor\":\"white\",\"linecolor\":\"white\",\"ticks\":\"\"},\"caxis\":{\"gridcolor\":\"white\",\"linecolor\":\"white\",\"ticks\":\"\"}},\"coloraxis\":{\"colorbar\":{\"outlinewidth\":0,\"ticks\":\"\"}},\"colorscale\":{\"sequential\":[[0.0,\"#0d0887\"],[0.1111111111111111,\"#46039f\"],[0.2222222222222222,\"#7201a8\"],[0.3333333333333333,\"#9c179e\"],[0.4444444444444444,\"#bd3786\"],[0.5555555555555556,\"#d8576b\"],[0.6666666666666666,\"#ed7953\"],[0.7777777777777778,\"#fb9f3a\"],[0.8888888888888888,\"#fdca26\"],[1.0,\"#f0f921\"]],\"sequentialminus\":[[0.0,\"#0d0887\"],[0.1111111111111111,\"#46039f\"],[0.2222222222222222,\"#7201a8\"],[0.3333333333333333,\"#9c179e\"],[0.4444444444444444,\"#bd3786\"],[0.5555555555555556,\"#d8576b\"],[0.6666666666666666,\"#ed7953\"],[0.7777777777777778,\"#fb9f3a\"],[0.8888888888888888,\"#fdca26\"],[1.0,\"#f0f921\"]],\"diverging\":[[0,\"#8e0152\"],[0.1,\"#c51b7d\"],[0.2,\"#de77ae\"],[0.3,\"#f1b6da\"],[0.4,\"#fde0ef\"],[0.5,\"#f7f7f7\"],[0.6,\"#e6f5d0\"],[0.7,\"#b8e186\"],[0.8,\"#7fbc41\"],[0.9,\"#4d9221\"],[1,\"#276419\"]]},\"xaxis\":{\"gridcolor\":\"white\",\"linecolor\":\"white\",\"ticks\":\"\",\"title\":{\"standoff\":15},\"zerolinecolor\":\"white\",\"automargin\":true,\"zerolinewidth\":2},\"yaxis\":{\"gridcolor\":\"white\",\"linecolor\":\"white\",\"ticks\":\"\",\"title\":{\"standoff\":15},\"zerolinecolor\":\"white\",\"automargin\":true,\"zerolinewidth\":2},\"scene\":{\"xaxis\":{\"backgroundcolor\":\"#E5ECF6\",\"gridcolor\":\"white\",\"linecolor\":\"white\",\"showbackground\":true,\"ticks\":\"\",\"zerolinecolor\":\"white\",\"gridwidth\":2},\"yaxis\":{\"backgroundcolor\":\"#E5ECF6\",\"gridcolor\":\"white\",\"linecolor\":\"white\",\"showbackground\":true,\"ticks\":\"\",\"zerolinecolor\":\"white\",\"gridwidth\":2},\"zaxis\":{\"backgroundcolor\":\"#E5ECF6\",\"gridcolor\":\"white\",\"linecolor\":\"white\",\"showbackground\":true,\"ticks\":\"\",\"zerolinecolor\":\"white\",\"gridwidth\":2}},\"shapedefaults\":{\"line\":{\"color\":\"#2a3f5f\"}},\"annotationdefaults\":{\"arrowcolor\":\"#2a3f5f\",\"arrowhead\":0,\"arrowwidth\":1},\"geo\":{\"bgcolor\":\"white\",\"landcolor\":\"#E5ECF6\",\"subunitcolor\":\"white\",\"showland\":true,\"showlakes\":true,\"lakecolor\":\"white\"},\"title\":{\"x\":0.05},\"mapbox\":{\"style\":\"light\"}}},\"legend\":{\"tracegroupgap\":0},\"margin\":{\"t\":60},\"piecolorway\":[\"#f0f921\",\"#fdca26\",\"#fb9f3a\",\"#ed7953\",\"#d8576b\",\"#bd3786\",\"#9c179e\",\"#7201a8\",\"#46039f\",\"#0d0887\"]},                        {\"responsive\": true}                    ).then(function(){\n",
              "                            \n",
              "var gd = document.getElementById('19877d91-22bd-444f-88af-049b06d0752b');\n",
              "var x = new MutationObserver(function (mutations, observer) {{\n",
              "        var display = window.getComputedStyle(gd).display;\n",
              "        if (!display || display === 'none') {{\n",
              "            console.log([gd, 'removed!']);\n",
              "            Plotly.purge(gd);\n",
              "            observer.disconnect();\n",
              "        }}\n",
              "}});\n",
              "\n",
              "// Listen for the removal of the full notebook cells\n",
              "var notebookContainer = gd.closest('#notebook-container');\n",
              "if (notebookContainer) {{\n",
              "    x.observe(notebookContainer, {childList: true});\n",
              "}}\n",
              "\n",
              "// Listen for the clearing of the current output cell\n",
              "var outputEl = gd.closest('.output');\n",
              "if (outputEl) {{\n",
              "    x.observe(outputEl, {childList: true});\n",
              "}}\n",
              "\n",
              "                        })                };                            </script>        </div>\n",
              "</body>\n",
              "</html>"
            ]
          },
          "metadata": {}
        }
      ]
    },
    {
      "cell_type": "code",
      "source": [
        "df = Accident_by_Road_conditions\n",
        "px.line(df.to_pandas(),               # covert to Pandas DataFrame\n",
        "        x = 'Road_conditions', \n",
        "        y = 'the number of accident by Road_conditions'\n",
        ")"
      ],
      "metadata": {
        "id": "MOKJYWcr0peb",
        "colab": {
          "base_uri": "https://localhost:8080/",
          "height": 542
        },
        "outputId": "670fc72b-0fad-4df7-99d6-b3a41c740fac"
      },
      "execution_count": 41,
      "outputs": [
        {
          "output_type": "display_data",
          "data": {
            "text/html": [
              "<html>\n",
              "<head><meta charset=\"utf-8\" /></head>\n",
              "<body>\n",
              "    <div>            <script src=\"https://cdnjs.cloudflare.com/ajax/libs/mathjax/2.7.5/MathJax.js?config=TeX-AMS-MML_SVG\"></script><script type=\"text/javascript\">if (window.MathJax && window.MathJax.Hub && window.MathJax.Hub.Config) {window.MathJax.Hub.Config({SVG: {font: \"STIX-Web\"}});}</script>                <script type=\"text/javascript\">window.PlotlyConfig = {MathJaxConfig: 'local'};</script>\n",
              "        <script src=\"https://cdn.plot.ly/plotly-2.18.2.min.js\"></script>                <div id=\"9c988d58-79db-4969-a80c-ffd2bd50fecf\" class=\"plotly-graph-div\" style=\"height:525px; width:100%;\"></div>            <script type=\"text/javascript\">                                    window.PLOTLYENV=window.PLOTLYENV || {};                                    if (document.getElementById(\"9c988d58-79db-4969-a80c-ffd2bd50fecf\")) {                    Plotly.newPlot(                        \"9c988d58-79db-4969-a80c-ffd2bd50fecf\",                        [{\"hovertemplate\":\"Road_conditions=%{x}<br>the number of accident by Road_conditions=%{y}<extra></extra>\",\"legendgroup\":\"\",\"line\":{\"color\":\"#636efa\",\"dash\":\"solid\"},\"marker\":{\"symbol\":\"circle\"},\"mode\":\"lines\",\"name\":\"\",\"orientation\":\"v\",\"showlegend\":false,\"x\":[\"Dry\",\"Wet\",\"Frost\",\"Snow\",\"Missing Data\"],\"xaxis\":\"x\",\"y\":[633936,184279,6020,1710,1648],\"yaxis\":\"y\",\"type\":\"scatter\"}],                        {\"template\":{\"data\":{\"histogram2dcontour\":[{\"type\":\"histogram2dcontour\",\"colorbar\":{\"outlinewidth\":0,\"ticks\":\"\"},\"colorscale\":[[0.0,\"#0d0887\"],[0.1111111111111111,\"#46039f\"],[0.2222222222222222,\"#7201a8\"],[0.3333333333333333,\"#9c179e\"],[0.4444444444444444,\"#bd3786\"],[0.5555555555555556,\"#d8576b\"],[0.6666666666666666,\"#ed7953\"],[0.7777777777777778,\"#fb9f3a\"],[0.8888888888888888,\"#fdca26\"],[1.0,\"#f0f921\"]]}],\"choropleth\":[{\"type\":\"choropleth\",\"colorbar\":{\"outlinewidth\":0,\"ticks\":\"\"}}],\"histogram2d\":[{\"type\":\"histogram2d\",\"colorbar\":{\"outlinewidth\":0,\"ticks\":\"\"},\"colorscale\":[[0.0,\"#0d0887\"],[0.1111111111111111,\"#46039f\"],[0.2222222222222222,\"#7201a8\"],[0.3333333333333333,\"#9c179e\"],[0.4444444444444444,\"#bd3786\"],[0.5555555555555556,\"#d8576b\"],[0.6666666666666666,\"#ed7953\"],[0.7777777777777778,\"#fb9f3a\"],[0.8888888888888888,\"#fdca26\"],[1.0,\"#f0f921\"]]}],\"heatmap\":[{\"type\":\"heatmap\",\"colorbar\":{\"outlinewidth\":0,\"ticks\":\"\"},\"colorscale\":[[0.0,\"#0d0887\"],[0.1111111111111111,\"#46039f\"],[0.2222222222222222,\"#7201a8\"],[0.3333333333333333,\"#9c179e\"],[0.4444444444444444,\"#bd3786\"],[0.5555555555555556,\"#d8576b\"],[0.6666666666666666,\"#ed7953\"],[0.7777777777777778,\"#fb9f3a\"],[0.8888888888888888,\"#fdca26\"],[1.0,\"#f0f921\"]]}],\"heatmapgl\":[{\"type\":\"heatmapgl\",\"colorbar\":{\"outlinewidth\":0,\"ticks\":\"\"},\"colorscale\":[[0.0,\"#0d0887\"],[0.1111111111111111,\"#46039f\"],[0.2222222222222222,\"#7201a8\"],[0.3333333333333333,\"#9c179e\"],[0.4444444444444444,\"#bd3786\"],[0.5555555555555556,\"#d8576b\"],[0.6666666666666666,\"#ed7953\"],[0.7777777777777778,\"#fb9f3a\"],[0.8888888888888888,\"#fdca26\"],[1.0,\"#f0f921\"]]}],\"contourcarpet\":[{\"type\":\"contourcarpet\",\"colorbar\":{\"outlinewidth\":0,\"ticks\":\"\"}}],\"contour\":[{\"type\":\"contour\",\"colorbar\":{\"outlinewidth\":0,\"ticks\":\"\"},\"colorscale\":[[0.0,\"#0d0887\"],[0.1111111111111111,\"#46039f\"],[0.2222222222222222,\"#7201a8\"],[0.3333333333333333,\"#9c179e\"],[0.4444444444444444,\"#bd3786\"],[0.5555555555555556,\"#d8576b\"],[0.6666666666666666,\"#ed7953\"],[0.7777777777777778,\"#fb9f3a\"],[0.8888888888888888,\"#fdca26\"],[1.0,\"#f0f921\"]]}],\"surface\":[{\"type\":\"surface\",\"colorbar\":{\"outlinewidth\":0,\"ticks\":\"\"},\"colorscale\":[[0.0,\"#0d0887\"],[0.1111111111111111,\"#46039f\"],[0.2222222222222222,\"#7201a8\"],[0.3333333333333333,\"#9c179e\"],[0.4444444444444444,\"#bd3786\"],[0.5555555555555556,\"#d8576b\"],[0.6666666666666666,\"#ed7953\"],[0.7777777777777778,\"#fb9f3a\"],[0.8888888888888888,\"#fdca26\"],[1.0,\"#f0f921\"]]}],\"mesh3d\":[{\"type\":\"mesh3d\",\"colorbar\":{\"outlinewidth\":0,\"ticks\":\"\"}}],\"scatter\":[{\"fillpattern\":{\"fillmode\":\"overlay\",\"size\":10,\"solidity\":0.2},\"type\":\"scatter\"}],\"parcoords\":[{\"type\":\"parcoords\",\"line\":{\"colorbar\":{\"outlinewidth\":0,\"ticks\":\"\"}}}],\"scatterpolargl\":[{\"type\":\"scatterpolargl\",\"marker\":{\"colorbar\":{\"outlinewidth\":0,\"ticks\":\"\"}}}],\"bar\":[{\"error_x\":{\"color\":\"#2a3f5f\"},\"error_y\":{\"color\":\"#2a3f5f\"},\"marker\":{\"line\":{\"color\":\"#E5ECF6\",\"width\":0.5},\"pattern\":{\"fillmode\":\"overlay\",\"size\":10,\"solidity\":0.2}},\"type\":\"bar\"}],\"scattergeo\":[{\"type\":\"scattergeo\",\"marker\":{\"colorbar\":{\"outlinewidth\":0,\"ticks\":\"\"}}}],\"scatterpolar\":[{\"type\":\"scatterpolar\",\"marker\":{\"colorbar\":{\"outlinewidth\":0,\"ticks\":\"\"}}}],\"histogram\":[{\"marker\":{\"pattern\":{\"fillmode\":\"overlay\",\"size\":10,\"solidity\":0.2}},\"type\":\"histogram\"}],\"scattergl\":[{\"type\":\"scattergl\",\"marker\":{\"colorbar\":{\"outlinewidth\":0,\"ticks\":\"\"}}}],\"scatter3d\":[{\"type\":\"scatter3d\",\"line\":{\"colorbar\":{\"outlinewidth\":0,\"ticks\":\"\"}},\"marker\":{\"colorbar\":{\"outlinewidth\":0,\"ticks\":\"\"}}}],\"scattermapbox\":[{\"type\":\"scattermapbox\",\"marker\":{\"colorbar\":{\"outlinewidth\":0,\"ticks\":\"\"}}}],\"scatterternary\":[{\"type\":\"scatterternary\",\"marker\":{\"colorbar\":{\"outlinewidth\":0,\"ticks\":\"\"}}}],\"scattercarpet\":[{\"type\":\"scattercarpet\",\"marker\":{\"colorbar\":{\"outlinewidth\":0,\"ticks\":\"\"}}}],\"carpet\":[{\"aaxis\":{\"endlinecolor\":\"#2a3f5f\",\"gridcolor\":\"white\",\"linecolor\":\"white\",\"minorgridcolor\":\"white\",\"startlinecolor\":\"#2a3f5f\"},\"baxis\":{\"endlinecolor\":\"#2a3f5f\",\"gridcolor\":\"white\",\"linecolor\":\"white\",\"minorgridcolor\":\"white\",\"startlinecolor\":\"#2a3f5f\"},\"type\":\"carpet\"}],\"table\":[{\"cells\":{\"fill\":{\"color\":\"#EBF0F8\"},\"line\":{\"color\":\"white\"}},\"header\":{\"fill\":{\"color\":\"#C8D4E3\"},\"line\":{\"color\":\"white\"}},\"type\":\"table\"}],\"barpolar\":[{\"marker\":{\"line\":{\"color\":\"#E5ECF6\",\"width\":0.5},\"pattern\":{\"fillmode\":\"overlay\",\"size\":10,\"solidity\":0.2}},\"type\":\"barpolar\"}],\"pie\":[{\"automargin\":true,\"type\":\"pie\"}]},\"layout\":{\"autotypenumbers\":\"strict\",\"colorway\":[\"#636efa\",\"#EF553B\",\"#00cc96\",\"#ab63fa\",\"#FFA15A\",\"#19d3f3\",\"#FF6692\",\"#B6E880\",\"#FF97FF\",\"#FECB52\"],\"font\":{\"color\":\"#2a3f5f\"},\"hovermode\":\"closest\",\"hoverlabel\":{\"align\":\"left\"},\"paper_bgcolor\":\"white\",\"plot_bgcolor\":\"#E5ECF6\",\"polar\":{\"bgcolor\":\"#E5ECF6\",\"angularaxis\":{\"gridcolor\":\"white\",\"linecolor\":\"white\",\"ticks\":\"\"},\"radialaxis\":{\"gridcolor\":\"white\",\"linecolor\":\"white\",\"ticks\":\"\"}},\"ternary\":{\"bgcolor\":\"#E5ECF6\",\"aaxis\":{\"gridcolor\":\"white\",\"linecolor\":\"white\",\"ticks\":\"\"},\"baxis\":{\"gridcolor\":\"white\",\"linecolor\":\"white\",\"ticks\":\"\"},\"caxis\":{\"gridcolor\":\"white\",\"linecolor\":\"white\",\"ticks\":\"\"}},\"coloraxis\":{\"colorbar\":{\"outlinewidth\":0,\"ticks\":\"\"}},\"colorscale\":{\"sequential\":[[0.0,\"#0d0887\"],[0.1111111111111111,\"#46039f\"],[0.2222222222222222,\"#7201a8\"],[0.3333333333333333,\"#9c179e\"],[0.4444444444444444,\"#bd3786\"],[0.5555555555555556,\"#d8576b\"],[0.6666666666666666,\"#ed7953\"],[0.7777777777777778,\"#fb9f3a\"],[0.8888888888888888,\"#fdca26\"],[1.0,\"#f0f921\"]],\"sequentialminus\":[[0.0,\"#0d0887\"],[0.1111111111111111,\"#46039f\"],[0.2222222222222222,\"#7201a8\"],[0.3333333333333333,\"#9c179e\"],[0.4444444444444444,\"#bd3786\"],[0.5555555555555556,\"#d8576b\"],[0.6666666666666666,\"#ed7953\"],[0.7777777777777778,\"#fb9f3a\"],[0.8888888888888888,\"#fdca26\"],[1.0,\"#f0f921\"]],\"diverging\":[[0,\"#8e0152\"],[0.1,\"#c51b7d\"],[0.2,\"#de77ae\"],[0.3,\"#f1b6da\"],[0.4,\"#fde0ef\"],[0.5,\"#f7f7f7\"],[0.6,\"#e6f5d0\"],[0.7,\"#b8e186\"],[0.8,\"#7fbc41\"],[0.9,\"#4d9221\"],[1,\"#276419\"]]},\"xaxis\":{\"gridcolor\":\"white\",\"linecolor\":\"white\",\"ticks\":\"\",\"title\":{\"standoff\":15},\"zerolinecolor\":\"white\",\"automargin\":true,\"zerolinewidth\":2},\"yaxis\":{\"gridcolor\":\"white\",\"linecolor\":\"white\",\"ticks\":\"\",\"title\":{\"standoff\":15},\"zerolinecolor\":\"white\",\"automargin\":true,\"zerolinewidth\":2},\"scene\":{\"xaxis\":{\"backgroundcolor\":\"#E5ECF6\",\"gridcolor\":\"white\",\"linecolor\":\"white\",\"showbackground\":true,\"ticks\":\"\",\"zerolinecolor\":\"white\",\"gridwidth\":2},\"yaxis\":{\"backgroundcolor\":\"#E5ECF6\",\"gridcolor\":\"white\",\"linecolor\":\"white\",\"showbackground\":true,\"ticks\":\"\",\"zerolinecolor\":\"white\",\"gridwidth\":2},\"zaxis\":{\"backgroundcolor\":\"#E5ECF6\",\"gridcolor\":\"white\",\"linecolor\":\"white\",\"showbackground\":true,\"ticks\":\"\",\"zerolinecolor\":\"white\",\"gridwidth\":2}},\"shapedefaults\":{\"line\":{\"color\":\"#2a3f5f\"}},\"annotationdefaults\":{\"arrowcolor\":\"#2a3f5f\",\"arrowhead\":0,\"arrowwidth\":1},\"geo\":{\"bgcolor\":\"white\",\"landcolor\":\"#E5ECF6\",\"subunitcolor\":\"white\",\"showland\":true,\"showlakes\":true,\"lakecolor\":\"white\"},\"title\":{\"x\":0.05},\"mapbox\":{\"style\":\"light\"}}},\"xaxis\":{\"anchor\":\"y\",\"domain\":[0.0,1.0],\"title\":{\"text\":\"Road_conditions\"}},\"yaxis\":{\"anchor\":\"x\",\"domain\":[0.0,1.0],\"title\":{\"text\":\"the number of accident by Road_conditions\"}},\"legend\":{\"tracegroupgap\":0},\"margin\":{\"t\":60}},                        {\"responsive\": true}                    ).then(function(){\n",
              "                            \n",
              "var gd = document.getElementById('9c988d58-79db-4969-a80c-ffd2bd50fecf');\n",
              "var x = new MutationObserver(function (mutations, observer) {{\n",
              "        var display = window.getComputedStyle(gd).display;\n",
              "        if (!display || display === 'none') {{\n",
              "            console.log([gd, 'removed!']);\n",
              "            Plotly.purge(gd);\n",
              "            observer.disconnect();\n",
              "        }}\n",
              "}});\n",
              "\n",
              "// Listen for the removal of the full notebook cells\n",
              "var notebookContainer = gd.closest('#notebook-container');\n",
              "if (notebookContainer) {{\n",
              "    x.observe(notebookContainer, {childList: true});\n",
              "}}\n",
              "\n",
              "// Listen for the clearing of the current output cell\n",
              "var outputEl = gd.closest('.output');\n",
              "if (outputEl) {{\n",
              "    x.observe(outputEl, {childList: true});\n",
              "}}\n",
              "\n",
              "                        })                };                            </script>        </div>\n",
              "</body>\n",
              "</html>"
            ]
          },
          "metadata": {}
        }
      ]
    },
    {
      "cell_type": "code",
      "source": [
        "df = Accident_by_day_gender\n",
        "\n",
        "plt.bar(df['Day'], df['Accident_Index'])"
      ],
      "metadata": {
        "id": "ELD26x6W0pbU",
        "colab": {
          "base_uri": "https://localhost:8080/",
          "height": 447
        },
        "outputId": "80518a0b-48b3-4a43-98a5-974c0fb34e6e"
      },
      "execution_count": 44,
      "outputs": [
        {
          "output_type": "execute_result",
          "data": {
            "text/plain": [
              "<BarContainer object of 21 artists>"
            ]
          },
          "metadata": {},
          "execution_count": 44
        },
        {
          "output_type": "display_data",
          "data": {
            "text/plain": [
              "<Figure size 640x480 with 1 Axes>"
            ],
            "image/png": "[encoded data removed]"
          },
          "metadata": {}
        }
      ]
    },
    {
      "cell_type": "code",
      "source": [
        "import seaborn as sns\n",
        "sns.set_theme(style=\"ticks\")\n",
        "\n",
        "sns.pairplot(df_total.to_pandas(), hue='Severity')\n"
      ],
      "metadata": {
        "colab": {
          "base_uri": "https://localhost:8080/",
          "height": 772
        },
        "id": "quMms93t-BS6",
        "outputId": "3b976a3e-3f87-4b04-ec79-ddeb20f7aeeb"
      },
      "execution_count": 48,
      "outputs": [
        {
          "output_type": "execute_result",
          "data": {
            "text/plain": [
              "<seaborn.axisgrid.PairGrid at 0x7f54f709e7c0>"
            ]
          },
          "metadata": {},
          "execution_count": 48
        },
        {
          "output_type": "display_data",
          "data": {
            "text/plain": [
              "<Figure size 861.875x750 with 12 Axes>"
            ],
            "image/png": "[encoded data removed]"
          },
          "metadata": {}
        }
      ]
    }
  ]
}